{
 "cells": [
  {
   "cell_type": "markdown",
   "metadata": {},
   "source": [
    "I've chosen gamma distribution with parameters alpha = 1 and beta = 1/2, because it has left border."
   ]
  },
  {
   "cell_type": "code",
   "execution_count": 2,
   "metadata": {},
   "outputs": [
    {
     "data": {
      "text/plain": [
       "<Figure size 640x480 with 1 Axes>"
      ]
     },
     "metadata": {},
     "output_type": "display_data"
    }
   ],
   "source": [
    "import math\n",
    "import numpy as np\n",
    "from math import factorial\n",
    "import matplotlib.pyplot as plt\n",
    "import scipy.stats as sts\n",
    "from scipy.stats import gamma\n",
    "a = 1.0\n",
    "b = 1.0 / 2.0\n",
    "# define mean E, dispersion D and Standard deviation sigma\n",
    "E = a / b\n",
    "D = a / b ** 2\n",
    "sigma = math.sqrt(D)\n",
    "\n",
    "# Define gamma function \n",
    "def gammaFunc(x,alpha, beta):\n",
    "    return b**a*x**(alpha - 1)*(math.e)**(-beta*x)/factorial(alpha-1)\n",
    "\n",
    "# Create sample from gamma distribution\n",
    "r = gamma.rvs(a=a, scale=(1.0/b), size=10000)\n",
    "\n",
    "# Create theoretical values for gamma function to bulid plot\n",
    "x = np.arange(0, 15, 0.05)\n",
    "y = gammaFunc(x, a, b)\n",
    "\n",
    "plt.hist(r, density=True)\n",
    "plt.plot(x, y)\n",
    "plt.ylabel('Fraction of samples')\n",
    "plt.xlabel('$x$')\n",
    "plt.title(\"Gamma distributon\")\n",
    "plt.show()"
   ]
  },
  {
   "cell_type": "markdown",
   "metadata": {},
   "source": [
    "# n = 5"
   ]
  },
  {
   "cell_type": "code",
   "execution_count": 3,
   "metadata": {},
   "outputs": [
    {
     "name": "stderr",
     "output_type": "stream",
     "text": [
      "/home/ubuntu/anaconda3/envs/speech_features/lib/python3.7/site-packages/ipykernel_launcher.py:14: MatplotlibDeprecationWarning: \n",
      "The 'normed' kwarg was deprecated in Matplotlib 2.1 and will be removed in 3.1. Use 'density' instead.\n",
      "  \n"
     ]
    },
    {
     "data": {
      "text/plain": [
       "[<matplotlib.lines.Line2D at 0x7f881806c7b8>]"
      ]
     },
     "execution_count": 3,
     "metadata": {},
     "output_type": "execute_result"
    },
    {
     "data": {
      "image/png": "[encoded data removed]",
      "text/plain": [
       "<Figure size 432x288 with 1 Axes>"
      ]
     },
     "metadata": {
      "needs_background": "light"
     },
     "output_type": "display_data"
    }
   ],
   "source": [
    "n = 5\n",
    "list = []\n",
    "# fill list with average value from gamma sample n\n",
    "for i in range(1000):\n",
    "      list.append(gamma.rvs(a=a, scale=(1.0/b), size=n).mean())\n",
    "# List to np.array\n",
    "lst = np.array(list)\n",
    "#define standart distribution\n",
    "norm_dist = sts.norm(loc=E, scale=sigma)\n",
    "x = np.arange(0, 6, 0.1)\n",
    "cdf = norm_dist.pdf(x)\n",
    "\n",
    "#Create plots\n",
    "plt.hist(lst, normed=True)\n",
    "plt.ylabel('Fraction of samples')\n",
    "plt.xlabel('$x$')\n",
    "plt.plot(x, cdf)"
   ]
  },
  {
   "cell_type": "markdown",
   "metadata": {},
   "source": [
    "# n = 15"
   ]
  },
  {
   "cell_type": "code",
   "execution_count": 8,
   "metadata": {},
   "outputs": [
    {
     "data": {
      "text/plain": [
       "[<matplotlib.lines.Line2D at 0x9bd4cf8>]"
      ]
     },
     "execution_count": 8,
     "metadata": {},
     "output_type": "execute_result"
    },
    {
     "data": {
      "image/png": "[encoded data removed]",
      "text/plain": [
       "<Figure size 432x288 with 1 Axes>"
      ]
     },
     "metadata": {
      "needs_background": "light"
     },
     "output_type": "display_data"
    }
   ],
   "source": [
    "n = 15\n",
    "list = []\n",
    "# fill list with average value from gamma sample n\n",
    "for i in range(1000):\n",
    "      list.append(gamma.rvs(a=a, scale=(1.0/b), size=n).mean())\n",
    "# List to np.array\n",
    "lst = np.array(list)\n",
    "#define standart distribution\n",
    "norm_dist = sts.norm(loc=E, scale=sigma)\n",
    "x = np.arange(0, 6, 0.1)\n",
    "cdf = norm_dist.pdf(x)\n",
    "\n",
    "#Create plots\n",
    "plt.hist(lst, normed=True)\n",
    "plt.ylabel('Fraction of samples')\n",
    "plt.xlabel('$x$')\n",
    "plt.plot(x, cdf)"
   ]
  },
  {
   "cell_type": "markdown",
   "metadata": {},
   "source": [
    "# n = 30"
   ]
  },
  {
   "cell_type": "code",
   "execution_count": 9,
   "metadata": {},
   "outputs": [
    {
     "data": {
      "text/plain": [
       "[<matplotlib.lines.Line2D at 0x9b99048>]"
      ]
     },
     "execution_count": 9,
     "metadata": {},
     "output_type": "execute_result"
    },
    {
     "data": {
      "image/png": "[encoded data removed]",
      "text/plain": [
       "<Figure size 432x288 with 1 Axes>"
      ]
     },
     "metadata": {
      "needs_background": "light"
     },
     "output_type": "display_data"
    }
   ],
   "source": [
    "n = 30\n",
    "list = []\n",
    "# fill list with average value from gamma sample n\n",
    "for i in range(1000):\n",
    "      list.append(gamma.rvs(a=a, scale=(1.0/b), size=n).mean())\n",
    "# List to np.array\n",
    "lst = np.array(list)\n",
    "#define standart distribution\n",
    "norm_dist = sts.norm(loc=E, scale=sigma)\n",
    "x = np.arange(0, 6, 0.1)\n",
    "cdf = norm_dist.pdf(x)\n",
    "\n",
    "#Create plots\n",
    "plt.hist(lst, normed=True)\n",
    "plt.ylabel('Fraction of samples')\n",
    "plt.xlabel('$x$')\n",
    "plt.plot(x, cdf)"
   ]
  },
  {
   "cell_type": "markdown",
   "metadata": {},
   "source": [
    "As we can see with increasing number of n the distribution becomes more like standard and the mean value starts to equal the mean values for gamma distribution."
   ]
  }
 ],
 "metadata": {
  "kernelspec": {
   "display_name": "Python (speech_features)",
   "language": "python",
   "name": "speech_features"
  },
  "language_info": {
   "codemirror_mode": {
    "name": "ipython",
    "version": 3
   },
   "file_extension": ".py",
   "mimetype": "text/x-python",
   "name": "python",
   "nbconvert_exporter": "python",
   "pygments_lexer": "ipython3",
   "version": "3.7.3"
  }
 },
 "nbformat": 4,
 "nbformat_minor": 2
}
