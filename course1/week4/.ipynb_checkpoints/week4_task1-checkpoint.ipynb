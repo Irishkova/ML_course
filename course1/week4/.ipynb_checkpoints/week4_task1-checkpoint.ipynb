{
 "cells": [
  {
   "cell_type": "markdown",
   "metadata": {},
   "source": [
    "## Центральная предельная теорема"
   ]
  },
  {
   "cell_type": "code",
   "execution_count": 1,
   "metadata": {},
   "outputs": [],
   "source": [
    "import math\n",
    "import numpy as np\n",
    "from scipy import stats as sts\n",
    "from scipy.stats import pareto\n",
    "import matplotlib.pyplot as plt\n",
    "%matplotlib inline"
   ]
  },
  {
   "cell_type": "markdown",
   "metadata": {},
   "source": [
    "### Распределение Парето \n",
    "#### Функция распределения:\n",
    "\\begin{align}\n",
    "F(x) & = 1-\\frac{1}{x^a} , если  x >= 1\\\\\n",
    "F(x) & = 0 , если  x < 1\n",
    "\\end{align}\n",
    "#### Плотность распределения:\n",
    "\\begin{align}\n",
    "f(x) & = \\frac{a}{x^{a+1}} , если  {x >= 1}\\\\\n",
    "f(x) & = 0 , если  x < 1\n",
    "\\end{align}"
   ]
  },
  {
   "cell_type": "markdown",
   "metadata": {},
   "source": [
    "#### Генерация выборки объемом 1000"
   ]
  },
  {
   "cell_type": "code",
   "execution_count": 2,
   "metadata": {},
   "outputs": [],
   "source": [
    "b = 2.62\n",
    "function = pareto(b)\n",
    "sample = function.rvs(1000)\n",
    "#Массив точек для плотности\n",
    "massive = np.linspace(1,10,1000)\n",
    "#Плотность\n",
    "density = function.pdf(massive)"
   ]
  },
  {
   "cell_type": "markdown",
   "metadata": {},
   "source": [
    "#### Гистрограмма выборки и теоретической функции распределения"
   ]
  },
  {
   "cell_type": "code",
   "execution_count": 3,
   "metadata": {
    "scrolled": true
   },
   "outputs": [
    {
     "name": "stderr",
     "output_type": "stream",
     "text": [
      "/home/ubuntu/anaconda3/envs/speech_features/lib/python3.7/site-packages/ipykernel_launcher.py:1: MatplotlibDeprecationWarning: \n",
      "The 'normed' kwarg was deprecated in Matplotlib 2.1 and will be removed in 3.1. Use 'density' instead.\n",
      "  \"\"\"Entry point for launching an IPython kernel.\n"
     ]
    },
    {
     "data": {
      "text/plain": [
       "<matplotlib.legend.Legend at 0x7f8d434756d8>"
      ]
     },
     "execution_count": 3,
     "metadata": {},
     "output_type": "execute_result"
    },
    {
     "data": {
      "image/png": "[encoded data removed]",
      "text/plain": [
       "<Figure size 432x288 with 1 Axes>"
      ]
     },
     "metadata": {
      "needs_background": "light"
     },
     "output_type": "display_data"
    }
   ],
   "source": [
    "plt.hist(sample, bins=100, range=(0,10), normed=True)\n",
    "plt.plot(massive, density, label='density')\n",
    "plt.xlabel('$X$')\n",
    "plt.ylabel('$F(x)$/samples')\n",
    "plt.legend(loc='best')"
   ]
  },
  {
   "cell_type": "markdown",
   "metadata": {},
   "source": [
    "#### Расчет вспомогающих параметров"
   ]
  },
  {
   "cell_type": "code",
   "execution_count": 4,
   "metadata": {},
   "outputs": [],
   "source": [
    "x_min = 1.0\n",
    "#Математическое ожидание (среднее)\n",
    "M = (x_min * b) / (b - 1)\n",
    "#Дисперсия\n",
    "D = (M ** 2) * (b / (b - 2))"
   ]
  },
  {
   "cell_type": "markdown",
   "metadata": {},
   "source": [
    "#### При выборках объема 5, 10, 50, 100, 500"
   ]
  },
  {
   "cell_type": "code",
   "execution_count": 6,
   "metadata": {},
   "outputs": [],
   "source": [
    "numbers = [5, 10, 50, 100, 500]\n",
    "sample_means_list = {}\n",
    "D_new_list = {}\n",
    "sigma_list = {}\n",
    "norm_list = {}\n",
    "density_list = {}\n",
    "\n",
    "for number in numbers:\n",
    "    sample_means_list[number] = np.array([])\n",
    "    index = 1\n",
    "    while index <= 1000:\n",
    "        sample_means = function.rvs(number)\n",
    "        mean = sum(sample_means)/number\n",
    "        sample_means_list[number] = np.append(sample_means_list[number], mean)\n",
    "        index += 1\n",
    "    D_new_list[number] = D / number\n",
    "    sigma_list[number] = math.sqrt(D_new_list[number])\n",
    "    norm_list[number] = sts.norm(M, sigma_list[number])\n",
    "    density_list[number] = norm_list[number].pdf(massive[:500])"
   ]
  },
  {
   "cell_type": "markdown",
   "metadata": {},
   "source": [
    "#### Гистрограммы выборки и теоретической функции распределения при выборке 5, 10, 50, 100, 500"
   ]
  },
  {
   "cell_type": "code",
   "execution_count": 18,
   "metadata": {},
   "outputs": [
    {
     "name": "stderr",
     "output_type": "stream",
     "text": [
      "/home/ubuntu/anaconda3/envs/speech_features/lib/python3.7/site-packages/ipykernel_launcher.py:3: MatplotlibDeprecationWarning: \n",
      "The 'normed' kwarg was deprecated in Matplotlib 2.1 and will be removed in 3.1. Use 'density' instead.\n",
      "  This is separate from the ipykernel package so we can avoid doing imports until\n"
     ]
    },
    {
     "data": {
      "text/plain": [
       "<matplotlib.legend.Legend at 0x7f8d40399710>"
      ]
     },
     "execution_count": 18,
     "metadata": {},
     "output_type": "execute_result"
    },
    {
     "data": {
      "image/png": "[encoded data removed]",
      "text/plain": [
       "<Figure size 432x288 with 1 Axes>"
      ]
     },
     "metadata": {
      "needs_background": "light"
     },
     "output_type": "display_data"
    }
   ],
   "source": [
    "#для выборки 5\n",
    "number = numbers[0]\n",
    "plt.hist(sample_means_list[number], bins =100, range=(1,6), normed=True)\n",
    "plt.plot(massive[:500], density_list[number], label='density n={}'.format(number))\n",
    "plt.ylabel('samples')\n",
    "plt.xlabel('$X$')\n",
    "plt.legend(loc='best')"
   ]
  },
  {
   "cell_type": "code",
   "execution_count": 19,
   "metadata": {},
   "outputs": [
    {
     "name": "stderr",
     "output_type": "stream",
     "text": [
      "/home/ubuntu/anaconda3/envs/speech_features/lib/python3.7/site-packages/ipykernel_launcher.py:3: MatplotlibDeprecationWarning: \n",
      "The 'normed' kwarg was deprecated in Matplotlib 2.1 and will be removed in 3.1. Use 'density' instead.\n",
      "  This is separate from the ipykernel package so we can avoid doing imports until\n"
     ]
    },
    {
     "data": {
      "text/plain": [
       "<matplotlib.legend.Legend at 0x7f8d401d54a8>"
      ]
     },
     "execution_count": 19,
     "metadata": {},
     "output_type": "execute_result"
    },
    {
     "data": {
      "image/png": "[encoded data removed]",
      "text/plain": [
       "<Figure size 432x288 with 1 Axes>"
      ]
     },
     "metadata": {
      "needs_background": "light"
     },
     "output_type": "display_data"
    }
   ],
   "source": [
    "#для выборки 10\n",
    "number = numbers[1]\n",
    "plt.hist(sample_means_list[number], bins =200, range=(1,6), normed=True)\n",
    "plt.plot(massive[:500], density_list[number], label='density n={}'.format(number))\n",
    "plt.ylabel('samples')\n",
    "plt.xlabel('$X$')\n",
    "plt.legend(loc='best')"
   ]
  },
  {
   "cell_type": "code",
   "execution_count": 9,
   "metadata": {},
   "outputs": [
    {
     "name": "stderr",
     "output_type": "stream",
     "text": [
      "/home/ubuntu/anaconda3/envs/speech_features/lib/python3.7/site-packages/ipykernel_launcher.py:3: MatplotlibDeprecationWarning: \n",
      "The 'normed' kwarg was deprecated in Matplotlib 2.1 and will be removed in 3.1. Use 'density' instead.\n",
      "  This is separate from the ipykernel package so we can avoid doing imports until\n"
     ]
    },
    {
     "data": {
      "text/plain": [
       "<matplotlib.legend.Legend at 0x7f8d427a50f0>"
      ]
     },
     "execution_count": 9,
     "metadata": {},
     "output_type": "execute_result"
    },
    {
     "data": {
      "image/png": "[encoded data removed]",
      "text/plain": [
       "<Figure size 432x288 with 1 Axes>"
      ]
     },
     "metadata": {
      "needs_background": "light"
     },
     "output_type": "display_data"
    }
   ],
   "source": [
    "#для выборки 50\n",
    "number = numbers[2]\n",
    "plt.hist(sample_means_list[number], bins =500, range=(1,6), normed=True)\n",
    "plt.plot(massive[:500], density_list[number], label='density n={}'.format(number))\n",
    "plt.ylabel('samples')\n",
    "plt.xlabel('$X$')\n",
    "plt.legend(loc='best')"
   ]
  },
  {
   "cell_type": "code",
   "execution_count": 10,
   "metadata": {},
   "outputs": [
    {
     "name": "stderr",
     "output_type": "stream",
     "text": [
      "/home/ubuntu/anaconda3/envs/speech_features/lib/python3.7/site-packages/ipykernel_launcher.py:3: MatplotlibDeprecationWarning: \n",
      "The 'normed' kwarg was deprecated in Matplotlib 2.1 and will be removed in 3.1. Use 'density' instead.\n",
      "  This is separate from the ipykernel package so we can avoid doing imports until\n"
     ]
    },
    {
     "data": {
      "text/plain": [
       "<matplotlib.legend.Legend at 0x7f8d421ec588>"
      ]
     },
     "execution_count": 10,
     "metadata": {},
     "output_type": "execute_result"
    },
    {
     "data": {
      "image/png": "[encoded data removed]",
      "text/plain": [
       "<Figure size 432x288 with 1 Axes>"
      ]
     },
     "metadata": {
      "needs_background": "light"
     },
     "output_type": "display_data"
    }
   ],
   "source": [
    "#для выборки 100\n",
    "number = numbers[3]\n",
    "plt.hist(sample_means_list[number], bins =1000, range=(1,6), normed=True)\n",
    "plt.plot(massive[:500], density_list[number], label='density n={}'.format(number))\n",
    "plt.ylabel('samples')\n",
    "plt.xlabel('$X$')\n",
    "plt.legend(loc='best')"
   ]
  },
  {
   "cell_type": "code",
   "execution_count": 11,
   "metadata": {},
   "outputs": [
    {
     "name": "stderr",
     "output_type": "stream",
     "text": [
      "/home/ubuntu/anaconda3/envs/speech_features/lib/python3.7/site-packages/ipykernel_launcher.py:3: MatplotlibDeprecationWarning: \n",
      "The 'normed' kwarg was deprecated in Matplotlib 2.1 and will be removed in 3.1. Use 'density' instead.\n",
      "  This is separate from the ipykernel package so we can avoid doing imports until\n"
     ]
    },
    {
     "data": {
      "text/plain": [
       "<matplotlib.legend.Legend at 0x7f8d416b24e0>"
      ]
     },
     "execution_count": 11,
     "metadata": {},
     "output_type": "execute_result"
    },
    {
     "data": {
      "image/png": "[encoded data removed]",
      "text/plain": [
       "<Figure size 432x288 with 1 Axes>"
      ]
     },
     "metadata": {
      "needs_background": "light"
     },
     "output_type": "display_data"
    }
   ],
   "source": [
    "#для выборки 500\n",
    "number = numbers[4]\n",
    "plt.hist(sample_means_list[number], bins =1500, range=(1,6), normed=True)\n",
    "plt.plot(massive[:500], density_list[number], label='density n={}'.format(number))\n",
    "plt.ylabel('samples')\n",
    "plt.xlabel('$X$')\n",
    "plt.legend(loc='best')"
   ]
  },
  {
   "cell_type": "markdown",
   "metadata": {},
   "source": [
    "#### Параметры"
   ]
  },
  {
   "cell_type": "code",
   "execution_count": 14,
   "metadata": {},
   "outputs": [
    {
     "name": "stdout",
     "output_type": "stream",
     "text": [
      "Дисперсии:  {5: 2.2106101056585588, 10: 1.1053050528292794, 50: 0.22106101056585586, 100: 0.11053050528292793, 500: 0.022106101056585586}\n",
      "Сигмы:  {5: 1.4868120613105609, 10: 1.0513348909026463, 50: 0.4701712566351285, 100: 0.3324612838856999, 500: 0.14868120613105607}\n",
      "Нормы:  {5: <scipy.stats._distn_infrastructure.rv_frozen object at 0x7f8d42b6c2e8>, 10: <scipy.stats._distn_infrastructure.rv_frozen object at 0x7f8d42b6c860>, 50: <scipy.stats._distn_infrastructure.rv_frozen object at 0x7f8d42b6ca58>, 100: <scipy.stats._distn_infrastructure.rv_frozen object at 0x7f8d4338cb70>, 500: <scipy.stats._distn_infrastructure.rv_frozen object at 0x7f8d42b6c278>}\n"
     ]
    }
   ],
   "source": [
    "print('Дисперсии: ', D_new_list)\n",
    "print('Сигмы: ', sigma_list)\n",
    "print('Нормы: ', norm_list)\n",
    "#print('Плотности: ', density_list)"
   ]
  },
  {
   "cell_type": "markdown",
   "metadata": {},
   "source": [
    "#### Выводы"
   ]
  },
  {
   "cell_type": "markdown",
   "metadata": {},
   "source": [
    "Из информации, представленной на данных графиках, описывающих распределение Парето, видно что с увеличением размера выборки функция сходится и увеличивается точность аппроксимации распределения выборочных средних нормальным. Наиболее точную картину плотности мы можем наблюдать при большей выборке, в нашем случае это размер выборки 500."
   ]
  }
 ],
 "metadata": {
  "kernelspec": {
   "display_name": "Python (speech_features)",
   "language": "python",
   "name": "speech_features"
  },
  "language_info": {
   "codemirror_mode": {
    "name": "ipython",
    "version": 3
   },
   "file_extension": ".py",
   "mimetype": "text/x-python",
   "name": "python",
   "nbconvert_exporter": "python",
   "pygments_lexer": "ipython3",
   "version": "3.7.3"
  }
 },
 "nbformat": 4,
 "nbformat_minor": 2
}
