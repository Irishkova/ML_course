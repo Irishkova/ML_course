{
 "cells": [
  {
   "cell_type": "markdown",
   "metadata": {},
   "source": [
    "# Сравнение метрик качества бинарной классификации\n",
    "## Programming Assignment"
   ]
  },
  {
   "cell_type": "markdown",
   "metadata": {},
   "source": [
    "В этом задании мы разберемся, в чем состоит разница между разными метриками качества. Мы остановимся на задаче бинарной классификации (с откликами 0 и 1), но рассмотрим ее как задачу предсказания вероятности того, что объект принадлежит классу 1. Таким образом, мы будем работать с вещественной, а не бинарной целевой переменной."
   ]
  },
  {
   "cell_type": "markdown",
   "metadata": {},
   "source": [
    "Задание оформлено в стиле демонстрации с элементами Programming Assignment. Вам нужно запустить уже написанный код и рассмотреть предложенные графики, а также реализовать несколько своих функций. Для проверки запишите в отдельные файлы результаты работы этих функций на указанных наборах входных данных, это можно сделать с помощью предложенных в заданиях функций write_answer_N, N - номер задачи. Загрузите эти файлы в систему."
   ]
  },
  {
   "cell_type": "markdown",
   "metadata": {},
   "source": [
    "Для построения графиков нужно импортировать соответствующие модули. \n",
    "Библиотека seaborn позволяет сделать графики красивее. Если вы не хотите ее использовать, закомментируйте третью строку.\n",
    "Более того, для выполнения Programming Assignment модули matplotlib и seaborn не нужны (вы можете не запускать ячейки с построением графиков и смотреть на уже построенные картинки)."
   ]
  },
  {
   "cell_type": "code",
   "execution_count": 70,
   "metadata": {},
   "outputs": [],
   "source": [
    "import numpy as np\n",
    "from matplotlib import pyplot as plt\n",
    "import seaborn\n",
    "%matplotlib notebook"
   ]
  },
  {
   "cell_type": "markdown",
   "metadata": {},
   "source": [
    "### Что предсказывают алгоритмы"
   ]
  },
  {
   "cell_type": "markdown",
   "metadata": {},
   "source": [
    "Для вычисления метрик качества в обучении с учителем нужно знать только два вектора: вектор правильных ответов и вектор предсказанных величин; будем обозначать их actual и predicted. Вектор actual известен из обучающей выборки, вектор predicted возвращается алгоритмом предсказания. Сегодня мы не будем использовать какие-то алгоритмы классификации, а просто рассмотрим разные векторы предсказаний.\n",
    "\n",
    "В нашей формулировке actual состоит из нулей и единиц, а predicted - из величин из интервала [0, 1] (вероятности класса 1). Такие векторы удобно показывать на scatter plot.\n",
    "\n",
    "Чтобы сделать финальное предсказание (уже бинарное), нужно установить порог T: все объекты, имеющие предсказание выше порога, относят к классу 1, остальные - к классу 0. "
   ]
  },
  {
   "cell_type": "code",
   "execution_count": 2,
   "metadata": {},
   "outputs": [],
   "source": [
    "# рисует один scatter plot\n",
    "def scatter(actual, predicted, T):\n",
    "    plt.scatter(actual, predicted)\n",
    "    plt.xlabel(\"Labels\")\n",
    "    plt.ylabel(\"Predicted probabilities\")\n",
    "    plt.plot([-0.2, 1.2], [T, T])\n",
    "    plt.axis([-0.1, 1.1, -0.1, 1.1])\n",
    "    \n",
    "# рисует несколько scatter plot в таблице, имеющей размеры shape\n",
    "def many_scatters(actuals, predicteds, Ts, titles, shape):\n",
    "    plt.figure(figsize=(shape[1]*5, shape[0]*5))\n",
    "    i = 1\n",
    "    for actual, predicted, T, title in zip(actuals, predicteds, Ts, titles):\n",
    "        ax = plt.subplot(shape[0], shape[1], i)\n",
    "        ax.set_title(title)\n",
    "        i += 1\n",
    "        scatter(actual, predicted, T)"
   ]
  },
  {
   "cell_type": "markdown",
   "metadata": {},
   "source": [
    "Идеальная ситуация: существует порог T, верно разделяющий вероятности, соответствующие двум классам. Пример такой ситуации:"
   ]
  },
  {
   "cell_type": "code",
   "execution_count": 3,
   "metadata": {},
   "outputs": [],
   "source": [
    "actual_0 = np.array([ 0.,  0.,  0.,  0.,  0.,  0.,  0.,  0.,  0.,  0.,  \n",
    "          1.,  1.,  1., 1.,  1.,  1.,  1.,  1.,  1.,  1.,  1.,  1.])\n",
    "predicted_0 = np.array([ 0.19015288,  0.23872404,  0.42707312,  0.15308362,  0.2951875 ,\n",
    "            0.23475641,  0.17882447,  0.36320878,  0.33505476,  0.202608  ,\n",
    "            0.82044786,  0.69750253,  0.60272784,  0.9032949 ,  0.86949819,\n",
    "            0.97368264,  0.97289232,  0.75356512,  0.65189193,  0.95237033,\n",
    "            0.91529693,  0.8458463 ])"
   ]
  },
  {
   "cell_type": "code",
   "execution_count": 4,
   "metadata": {},
   "outputs": [
    {
     "data": {
      "image/png": "[encoded data removed]",
      "text/plain": [
       "<Figure size 360x360 with 1 Axes>"
      ]
     },
     "metadata": {
      "needs_background": "light"
     },
     "output_type": "display_data"
    }
   ],
   "source": [
    "plt.figure(figsize=(5, 5))\n",
    "scatter(actual_0, predicted_0, 0.5)"
   ]
  },
  {
   "cell_type": "markdown",
   "metadata": {},
   "source": [
    "Интервалы вероятностей для двух классов прекрасно разделяются порогом T = 0.5."
   ]
  },
  {
   "cell_type": "markdown",
   "metadata": {},
   "source": [
    "Чаще всего интервалы накладываются - тогда нужно аккуратно подбирать порог. \n",
    "\n",
    "Самый неправильный алгоритм делает все наоборот: поднимает вероятности класса 0 выше вероятностей класса 1. Если так произошло, стоит посмотреть, не перепутались ли метки 0 и 1 при создании целевого вектора из сырых данных.\n",
    "\n",
    "Примеры:"
   ]
  },
  {
   "cell_type": "code",
   "execution_count": 5,
   "metadata": {},
   "outputs": [],
   "source": [
    "actual_1 = np.array([ 0.,  0.,  0.,  0.,  0.,  0.,  0.,  0.,  0.,  0.,  0.,  0.,  0.,\n",
    "                    0.,  0.,  1.,  1.,  1.,  1.,  1.,  1.,  1.,  1.,  1.,  1.,  1.,\n",
    "                    1.,  1.,  1.,  1.])\n",
    "predicted_1 = np.array([ 0.41310733,  0.43739138,  0.22346525,  0.46746017,  0.58251177,\n",
    "            0.38989541,  0.43634826,  0.32329726,  0.01114812,  0.41623557,\n",
    "            0.54875741,  0.48526472,  0.21747683,  0.05069586,  0.16438548,\n",
    "            0.68721238,  0.72062154,  0.90268312,  0.46486043,  0.99656541,\n",
    "            0.59919345,  0.53818659,  0.8037637 ,  0.272277  ,  0.87428626,\n",
    "            0.79721372,  0.62506539,  0.63010277,  0.35276217,  0.56775664])\n",
    "actual_2 = np.array([ 1.,  1.,  1.,  1.,  1.,  1.,  1.,  1.,  1.,  1.,  1.,  1.,  0.,\n",
    "            0.,  0.,  0.,  0.,  0.,  0.,  0.,  0.,  0.,  0.,  0.])\n",
    "predicted_2 = np.array([ 0.07058193,  0.57877375,  0.42453249,  0.56562439,  0.13372737,\n",
    "            0.18696826,  0.09037209,  0.12609756,  0.14047683,  0.06210359,\n",
    "            0.36812596,  0.22277266,  0.79974381,  0.94843878,  0.4742684 ,\n",
    "            0.80825366,  0.83569563,  0.45621915,  0.79364286,  0.82181152,\n",
    "            0.44531285,  0.65245348,  0.69884206,  0.69455127])"
   ]
  },
  {
   "cell_type": "code",
   "execution_count": 6,
   "metadata": {},
   "outputs": [
    {
     "data": {
      "image/png": "[encoded data removed]",
      "text/plain": [
       "<Figure size 1080x360 with 3 Axes>"
      ]
     },
     "metadata": {
      "needs_background": "light"
     },
     "output_type": "display_data"
    }
   ],
   "source": [
    "many_scatters([actual_0, actual_1, actual_2], [predicted_0, predicted_1, predicted_2], \n",
    "              [0.5, 0.5, 0.5], [\"Perfect\", \"Typical\", \"Awful algorithm\"], (1, 3))"
   ]
  },
  {
   "cell_type": "markdown",
   "metadata": {},
   "source": [
    "Алгоритм может быть осторожным и стремиться сильно не отклонять вероятности от 0.5, а может рисковать - делать предсказания близкими к нулю или единице.  "
   ]
  },
  {
   "cell_type": "code",
   "execution_count": 7,
   "metadata": {},
   "outputs": [],
   "source": [
    "# рискующий идеальный алгоитм\n",
    "actual_0r = np.array([ 0.,  0.,  0.,  0.,  0.,  0.,  0.,  0.,  0.,  0.,  0.,  1.,  1.,\n",
    "            1.,  1.,  1.,  1.,  1.,  1.,  1.,  1.,  1.,  1.,  1.])\n",
    "predicted_0r = np.array([ 0.23563765,  0.16685597,  0.13718058,  0.35905335,  0.18498365,\n",
    "            0.20730027,  0.14833803,  0.18841647,  0.01205882,  0.0101424 ,\n",
    "            0.10170538,  0.94552901,  0.72007506,  0.75186747,  0.85893269,\n",
    "            0.90517219,  0.97667347,  0.86346504,  0.72267683,  0.9130444 ,\n",
    "            0.8319242 ,  0.9578879 ,  0.89448939,  0.76379055])\n",
    "# рискующий хороший алгоритм\n",
    "actual_1r = np.array([ 0.,  0.,  0.,  0.,  0.,  0.,  0.,  0.,  0.,  0.,  0.,  0.,  1.,\n",
    "            1.,  1.,  1.,  1.,  1.,  1.,  1.,  1.,  1.,  1.,  1.,  1.,  1.])\n",
    "predicted_1r = np.array([ 0.13832748,  0.0814398 ,  0.16136633,  0.11766141,  0.31784942,\n",
    "            0.14886991,  0.22664977,  0.07735617,  0.07071879,  0.92146468,\n",
    "            0.87579938,  0.97561838,  0.75638872,  0.89900957,  0.93760969,\n",
    "            0.92708013,  0.82003675,  0.85833438,  0.67371118,  0.82115125,\n",
    "            0.87560984,  0.77832734,  0.7593189,  0.81615662,  0.11906964,\n",
    "            0.18857729])"
   ]
  },
  {
   "cell_type": "code",
   "execution_count": 8,
   "metadata": {},
   "outputs": [
    {
     "data": {
      "image/png": "[encoded data removed]",
      "text/plain": [
       "<Figure size 720x720 with 4 Axes>"
      ]
     },
     "metadata": {
      "needs_background": "light"
     },
     "output_type": "display_data"
    }
   ],
   "source": [
    "many_scatters([actual_0, actual_1, actual_0r, actual_1r], \n",
    "              [predicted_0, predicted_1, predicted_0r, predicted_1r], \n",
    "              [0.5, 0.5, 0.5, 0.5],\n",
    "              [\"Perfect careful\", \"Typical careful\", \"Perfect risky\", \"Typical risky\"], \n",
    "              (2, 2))"
   ]
  },
  {
   "cell_type": "markdown",
   "metadata": {},
   "source": [
    "Также интервалы могут смещаться. Если алгоритм боится ошибок false positive, то он будет чаще делать предсказания, близкие к нулю. \n",
    "Аналогично, чтобы избежать ошибок false negative, логично чаще предсказывать большие вероятности. "
   ]
  },
  {
   "cell_type": "code",
   "execution_count": 9,
   "metadata": {},
   "outputs": [],
   "source": [
    "actual_10 = np.array([ 0.,  0.,  0.,  0.,  0.,  0.,  0.,  0.,  0.,  0.,  0.,  0.,  0.,\n",
    "                0.,  1.,  1.,  1.,  1.,  1.,  1.,  1.,  1.,  1.,  1.,  1.,  1.,\n",
    "                1.,  1.,  1.])\n",
    "predicted_10 = np.array([ 0.29340574, 0.47340035,  0.1580356 ,  0.29996772,  0.24115457,  0.16177793,\n",
    "                         0.35552878,  0.18867804,  0.38141962,  0.20367392,  0.26418924, 0.16289102, \n",
    "                         0.27774892,  0.32013135,  0.13453541, 0.39478755,  0.96625033,  0.47683139,  \n",
    "                         0.51221325,  0.48938235, 0.57092593,  0.21856972,  0.62773859,  0.90454639,  0.19406537,\n",
    "                         0.32063043,  0.4545493 ,  0.57574841,  0.55847795 ])\n",
    "actual_11 = np.array([ 0.,  0.,  0.,  0.,  0.,  0.,  0.,  0.,  0.,  0.,  0.,  0.,  0.,\n",
    "                0.,  1.,  1.,  1.,  1.,  1.,  1.,  1.,  1.,  1.,  1.,  1.,  1.,  1.])\n",
    "predicted_11 = np.array([ 0.35929566, 0.61562123,  0.71974688,  0.24893298,  0.19056711,  0.89308488,\n",
    "            0.71155538,  0.00903258,  0.51950535,  0.72153302,  0.45936068,  0.20197229,  0.67092724,\n",
    "                         0.81111343,  0.65359427,  0.70044585,  0.61983513,  0.84716577,  0.8512387 ,  \n",
    "                         0.86023125,  0.7659328 ,  0.70362246,  0.70127618,  0.8578749 ,  0.83641841,  \n",
    "                         0.62959491,  0.90445368])"
   ]
  },
  {
   "cell_type": "code",
   "execution_count": 10,
   "metadata": {},
   "outputs": [
    {
     "data": {
      "image/png": "[encoded data removed]",
      "text/plain": [
       "<Figure size 1080x360 with 3 Axes>"
      ]
     },
     "metadata": {
      "needs_background": "light"
     },
     "output_type": "display_data"
    }
   ],
   "source": [
    "many_scatters([actual_1, actual_10, actual_11], [predicted_1, predicted_10, predicted_11], \n",
    "              [0.5, 0.5, 0.5], [\"Typical\", \"Avoids FP\", \"Avoids FN\"], (1, 3))"
   ]
  },
  {
   "cell_type": "markdown",
   "metadata": {},
   "source": [
    "Мы описали разные характеры векторов вероятностей. Далее мы будем смотреть, как метрики оценивают разные векторы предсказаний, поэтому обязательно выполните ячейки, создающие векторы для визуализации."
   ]
  },
  {
   "cell_type": "markdown",
   "metadata": {},
   "source": [
    "### Метрики, оценивающие бинарные векторы предсказаний"
   ]
  },
  {
   "cell_type": "markdown",
   "metadata": {},
   "source": [
    "Есть две типичные ситуации, когда специалисты по машинному обучению начинают изучать характеристики метрик качества: \n",
    "1. при участии в соревновании или решении прикладной задачи, когда вектор предсказаний оценивается по конкретной метрике, и нужно построить алгоритм, максимизирующий эту метрику.\n",
    "1. на этапе формализации задачи машинного обучения, когда есть требования прикладной области, и нужно предложить математическую метрику, которая будет соответствовать этим требованиям.\n",
    "\n",
    "Далее мы вкратце рассмотрим каждую метрику с этих двух позиций."
   ]
  },
  {
   "cell_type": "markdown",
   "metadata": {},
   "source": [
    "#### Precision и recall; accuracy"
   ]
  },
  {
   "cell_type": "markdown",
   "metadata": {},
   "source": [
    "Для начала разберемся с метриками, оценивающие качество уже после бинаризации по порогу T, то есть сравнивающие два бинарных вектора: actual и predicted."
   ]
  },
  {
   "cell_type": "markdown",
   "metadata": {},
   "source": [
    "Две популярные метрики - precision и recall. Первая показывает, как часто алгоритм предсказывает класс 1 и оказывается правым, а вторая - как много объектов класса 1 алгоритм нашел. \n",
    "\n",
    "Также рассмотрим самую простую и известную метрику - accuracy; она показывает долю правильных ответов.\n",
    "\n",
    "Выясним преимущества и недостатки этих метрик, попробовав их на разных векторах вероятностей."
   ]
  },
  {
   "cell_type": "code",
   "execution_count": 11,
   "metadata": {},
   "outputs": [],
   "source": [
    "from sklearn.metrics import precision_score, recall_score, accuracy_score"
   ]
  },
  {
   "cell_type": "code",
   "execution_count": 12,
   "metadata": {},
   "outputs": [
    {
     "name": "stdout",
     "output_type": "stream",
     "text": [
      "Алгоритмы, разные по качеству:\n",
      "Perfect: precision = 1.0 recall = 1.0 ; accuracy = 1.0\n",
      "Typical: precision = 0.8571428571428571 recall = 0.8 ; accuracy = 0.8333333333333334\n",
      "Awful: precision = 0.18181818181818182 recall = 0.16666666666666666 ; accuracy = 0.20833333333333334\n",
      "Осторожный и рискующий алгоритмы:\n",
      "Typical careful: precision = 0.8571428571428571 recall = 0.8 ; accuracy = 0.8333333333333334\n",
      "Typical risky: precision = 0.8 recall = 0.8571428571428571 ; accuracy = 0.8076923076923077\n",
      "Разные склонности алгоритмов к ошибкам FP и FN:\n",
      "Avoids FP: precision = 1.0 recall = 0.4666666666666667 ; accuracy = 0.7241379310344828\n",
      "Avoids FN: precision = 0.6190476190476191 recall = 1.0 ; accuracy = 0.7037037037037037\n"
     ]
    }
   ],
   "source": [
    "T = 0.5\n",
    "print (\"Алгоритмы, разные по качеству:\")\n",
    "for actual, predicted, descr in zip([actual_0, actual_1, actual_2], \n",
    "                                    [predicted_0 > T, predicted_1 > T, predicted_2 > T],\n",
    "                                    [\"Perfect:\", \"Typical:\", \"Awful:\"]):\n",
    "    print (descr, \"precision =\", precision_score(actual, predicted), \"recall =\", \\\n",
    "        recall_score(actual, predicted), \";\",\\\n",
    "        \"accuracy =\", accuracy_score(actual, predicted))\n",
    "print (\"Осторожный и рискующий алгоритмы:\")\n",
    "for actual, predicted, descr in zip([actual_1, actual_1r], \n",
    "                                    [predicted_1 > T, predicted_1r > T],\n",
    "                                    [\"Typical careful:\", \"Typical risky:\"]):\n",
    "    print (descr, \"precision =\", precision_score(actual, predicted), \"recall =\", \\\n",
    "        recall_score(actual, predicted), \";\",\\\n",
    "        \"accuracy =\", accuracy_score(actual, predicted))\n",
    "print (\"Разные склонности алгоритмов к ошибкам FP и FN:\")\n",
    "for actual, predicted, descr in zip([actual_10, actual_11], \n",
    "                                    [predicted_10 > T, predicted_11 > T], \n",
    "                                    [\"Avoids FP:\", \"Avoids FN:\"]):\n",
    "    print (descr, \"precision =\", precision_score(actual, predicted), \"recall =\", \\\n",
    "        recall_score(actual, predicted), \";\",\\\n",
    "        \"accuracy =\", accuracy_score(actual, predicted))"
   ]
  },
  {
   "cell_type": "markdown",
   "metadata": {},
   "source": [
    "Все три метрики легко различают простые случаи хороших и плохих алгоритмов. Обратим внимание, что метрики имеют область значений  [0, 1], и потому их легко интерпретировать.\n",
    "\n",
    "Метрикам не важны величины вероятностей, им важно только то, сколько объектов неправильно зашли за установленную границу (в данном случае T = 0.5).\n",
    "\n",
    "Метрика accuracy дает одинаковый вес ошибкам false positive и false negative, зато пара метрик precision и recall однозначно идентифицирует это различие. Собственно, их для того и используют, чтобы контролировать ошибки FP и FN.\n",
    "\n",
    "Мы измерили три метрики, фиксировав порог T = 0.5, потому что для почти всех картинок он кажется оптимальным. Давайте посмотрим на последней (самой интересной для этих метрик) группе векторов, как меняются precision и recall при увеличении порога."
   ]
  },
  {
   "cell_type": "code",
   "execution_count": 14,
   "metadata": {},
   "outputs": [],
   "source": [
    "from sklearn.metrics import precision_recall_curve"
   ]
  },
  {
   "cell_type": "code",
   "execution_count": 15,
   "metadata": {},
   "outputs": [
    {
     "data": {
      "image/png": "[encoded data removed]",
      "text/plain": [
       "<Figure size 1080x360 with 3 Axes>"
      ]
     },
     "metadata": {
      "needs_background": "light"
     },
     "output_type": "display_data"
    }
   ],
   "source": [
    "precs = []\n",
    "recs = []\n",
    "threshs = []\n",
    "labels = [\"Typical\", \"Avoids FP\", \"Avoids FN\"]\n",
    "for actual, predicted in zip([actual_1, actual_10, actual_11], \n",
    "                                    [predicted_1, predicted_10, predicted_11]):\n",
    "    prec, rec, thresh = precision_recall_curve(actual, predicted)\n",
    "    precs.append(prec)\n",
    "    recs.append(rec)\n",
    "    threshs.append(thresh)\n",
    "plt.figure(figsize=(15, 5))\n",
    "for i in range(3):\n",
    "    ax = plt.subplot(1, 3, i+1)\n",
    "    plt.plot(threshs[i], precs[i][:-1], label=\"precision\")\n",
    "    plt.plot(threshs[i], recs[i][:-1], label=\"recall\")\n",
    "    plt.xlabel(\"threshold\")\n",
    "    ax.set_title(labels[i])\n",
    "    plt.legend()"
   ]
  },
  {
   "cell_type": "markdown",
   "metadata": {},
   "source": [
    "При увеличении порога мы делаем меньше ошибок FP и больше ошибок FN, поэтому одна из кривых растет, а вторая  - падает. По такому графику можно подобрать оптимальное значение порога, при котором precision и recall будут приемлемы. Если такого порога не нашлось, нужно обучать другой алгоритм. \n",
    "\n",
    "Оговоримся, что приемлемые значения precision и recall определяются предметной областью. Например, в задаче определения, болен ли пациент определенной болезнью (0 - здоров, 1 - болен), ошибок false negative стараются избегать, требуя recall около 0.9. Можно сказать человеку, что он болен, и при дальнейшей диагностике выявить ошибку; гораздо хуже пропустить наличие болезни."
   ]
  },
  {
   "cell_type": "markdown",
   "metadata": {},
   "source": [
    "__<font color=\"green\" size=5>Programming assignment: problem 1. </font>__ Фиксируем порог T = 0.65; по графикам можно примерно узнать, чему равны метрики на трех выбранных парах векторов (actual, predicted). Вычислите точные precision и recall для этих трех пар векторов.\n",
    "\n",
    "6 полученных чисел запишите в текстовый файл в таком порядке:\n",
    "\n",
    "precision_1 recall_1 precision_10 recall_10 precision_11 recall_11\n",
    "\n",
    "Цифры XXX после пробела соответствуют таким же цифрам в названиях переменных actual_XXX и predicted_XXX.\n",
    "\n",
    "Передайте ответ в функцию write_answer_1. Полученный файл загрузите в форму."
   ]
  },
  {
   "cell_type": "code",
   "execution_count": null,
   "metadata": {},
   "outputs": [],
   "source": [
    "def write_answer_1(answers):\n",
    "    with open(\"pa_metrics_problem1.txt\", \"w\") as fout:\n",
    "        fout.write(\" \".join([str(num) for num in answers]))"
   ]
  },
  {
   "cell_type": "code",
   "execution_count": 25,
   "metadata": {},
   "outputs": [],
   "source": [
    "############### Programming assignment: problem 1 ###############\n",
    "T = 0.65\n",
    "answer_list = []\n",
    "for actual, predicted, descr in zip([actual_1, actual_10, actual_11], \n",
    "                                    [predicted_1 > T, predicted_10 > T, predicted_11 > T],\n",
    "                                   [\"Typical\", \"Avoids FP\", \"Avoids FN\"]):\n",
    "    precision = precision_score(actual, predicted)\n",
    "    recall = recall_score(actual, predicted)\n",
    "    answer_list.append(precision)\n",
    "    answer_list.append(recall)  \n",
    "#     print(\"precision =\", precision_score(actual, predicted), \"recall =\", recall_score(actual, predicted))\n",
    "write_answer_1(answer_list)"
   ]
  },
  {
   "cell_type": "markdown",
   "metadata": {},
   "source": [
    "#### F1-score"
   ]
  },
  {
   "cell_type": "markdown",
   "metadata": {},
   "source": [
    "Очевидный недостаток пары метрик precision-recall - в том, что их две: непонятно, как ранжировать алгоритмы. Чтобы этого избежать, используют F1-метрику, которая равна среднему гармоническому precision и recall. \n",
    "F1-метрика будет равна 1, если и только если precision = 1 и recall = 1 (идеальный алгоритм). \n",
    "\n",
    "(: Обмануть F1 сложно: если одна из величин маленькая, а другая близка к 1 (по графикам видно, что такое соотношение иногда легко получить), F1 будет далека от 1. F1-метрику сложно оптимизировать, потому что для этого нужно добиваться высокой полноты и точности одновременно.\n",
    "\n",
    "Например, посчитаем F1 для того же набора векторов, для которого мы строили графики (мы помним, что там одна из кривых быстро выходит в единицу)."
   ]
  },
  {
   "cell_type": "code",
   "execution_count": 26,
   "metadata": {},
   "outputs": [],
   "source": [
    "from sklearn.metrics import f1_score"
   ]
  },
  {
   "cell_type": "code",
   "execution_count": 29,
   "metadata": {},
   "outputs": [
    {
     "name": "stdout",
     "output_type": "stream",
     "text": [
      "Разные склонности алгоритмов к ошибкам FP и FN:\n",
      "Typical: f1 = 0.8275862068965518\n",
      "Avoids FP: f1 = 0.6363636363636364\n",
      "Avoids FN: f1 = 0.7647058823529412\n"
     ]
    }
   ],
   "source": [
    "T = 0.5\n",
    "print (\"Разные склонности алгоритмов к ошибкам FP и FN:\")\n",
    "for actual, predicted, descr in zip([actual_1, actual_10, actual_11], \n",
    "                                    [predicted_1 > T, predicted_10 > T, predicted_11 > T], \n",
    "                                    [\"Typical:\", \"Avoids FP:\", \"Avoids FN:\"]):\n",
    "    print (descr, \"f1 =\", f1_score(actual, predicted))"
   ]
  },
  {
   "cell_type": "markdown",
   "metadata": {},
   "source": [
    "F1-метрика в двух последних случаях, когда одна из парных метрик равна 1, значительно меньше, чем в первом, сбалансированном случае."
   ]
  },
  {
   "cell_type": "markdown",
   "metadata": {},
   "source": [
    "__<font color=\"green\" size=5>Programming assignment: problem 2. </font>__ На precision и recall влияют и характер вектора вероятностей, и установленный порог. \n",
    "Для тех же пар (actual, predicted), что и в предыдущей задаче, найдите оптимальные пороги, максимизирующие F1_score. Будем рассматривать только пороги вида T = 0.1 * k, k - целое; соответственно, нужно найти три значения k. Если f1 максимизируется при нескольких значениях k, укажите наименьшее из них.\n",
    "\n",
    "Запишите найденные числа k в следующем порядке:\n",
    "\n",
    "k_1, k_10, k_11\n",
    "\n",
    "Цифры XXX после пробела соответствуют таким же цифрам в названиях переменных actual_XXX и predicted_XXX.\n",
    "\n",
    "Передайте ответ в функцию write_answer_2. Загрузите файл в форму.\n",
    "\n",
    "Если вы запишите список из трех найденных k в том же порядке в переменную ks, то с помощью кода ниже можно визуализировать найденные пороги:"
   ]
  },
  {
   "cell_type": "code",
   "execution_count": 43,
   "metadata": {},
   "outputs": [],
   "source": [
    "def write_answer_2(answers):\n",
    "    with open(\"pa_metrics_problem2.txt\", \"w\") as fout:\n",
    "        fout.write(\" \".join([str(num) for num in answers]))"
   ]
  },
  {
   "cell_type": "code",
   "execution_count": 44,
   "metadata": {},
   "outputs": [],
   "source": [
    "############### Programming assignment: problem 2 ###############\n",
    "k_list = {}\n",
    "labels = [\"Typical\", \"Avoids FP\", \"Avoids FN\"]\n",
    "for label in labels:\n",
    "    k_list[label] = []\n",
    "for k in range(10):\n",
    "    T = 0.1 * k\n",
    "    for actual, predicted, descr in zip([actual_1, actual_10, actual_11], \n",
    "                                    [predicted_1 > T, predicted_10 > T, predicted_11 > T], \n",
    "                                    labels):\n",
    "        k_list[descr].append(f1_score(actual, predicted))\n",
    "k_1 = k_list[labels[0]].index(max(k_list[labels[0]]))\n",
    "k_10 = k_list[labels[1]].index(max(k_list[labels[1]]))\n",
    "k_11 = k_list[labels[2]].index(max(k_list[labels[2]]))\n",
    "ks = [k_1, k_10, k_11]\n",
    "write_answer_2(ks)"
   ]
  },
  {
   "cell_type": "code",
   "execution_count": 41,
   "metadata": {},
   "outputs": [
    {
     "data": {
      "image/png": "[encoded data removed]",
      "text/plain": [
       "<Figure size 1080x360 with 3 Axes>"
      ]
     },
     "metadata": {
      "needs_background": "light"
     },
     "output_type": "display_data"
    }
   ],
   "source": [
    "many_scatters([actual_1, actual_10, actual_11], [predicted_1, predicted_10, predicted_11], \n",
    "              np.array(ks)*0.1, [\"Typical\", \"Avoids FP\", \"Avoids FN\"], (1, 3))"
   ]
  },
  {
   "cell_type": "markdown",
   "metadata": {},
   "source": [
    "### Метрики, оценивающие векторы вероятностей класса 1"
   ]
  },
  {
   "cell_type": "markdown",
   "metadata": {},
   "source": [
    "Рассмотренные метрики удобно интерпретировать, но при их использовании мы не учитываем большую часть информации, полученной от алгоритма. В некоторых задачах вероятности нужны в чистом виде, например, если мы предсказываем, выиграет ли команда в футбольном матче, и величина вероятности влияет на размер ставки за эту команду. Даже если в конце концов мы все равно бинаризуем предсказание, хочется следить за характером вектора вероятности. "
   ]
  },
  {
   "cell_type": "markdown",
   "metadata": {},
   "source": [
    "#### Log_loss"
   ]
  },
  {
   "cell_type": "markdown",
   "metadata": {},
   "source": [
    "Log_loss вычисляет правдоподобие меток в actual с вероятностями из predicted, взятое с противоположным знаком:\n",
    "\n",
    "$log\\_loss(actual, predicted) = - \\frac 1 n \\sum_{i=1}^n (actual_i \\cdot \\log (predicted_i) + (1-actual_i) \\cdot \\log (1-predicted_i))$, $n$ - длина векторов.\n",
    "\n",
    "Соответственно, эту метрику нужно минимизировать. "
   ]
  },
  {
   "cell_type": "markdown",
   "metadata": {},
   "source": [
    "Вычислим ее на наших векторах:"
   ]
  },
  {
   "cell_type": "code",
   "execution_count": 45,
   "metadata": {},
   "outputs": [],
   "source": [
    "from sklearn.metrics import log_loss"
   ]
  },
  {
   "cell_type": "code",
   "execution_count": 47,
   "metadata": {},
   "outputs": [
    {
     "name": "stdout",
     "output_type": "stream",
     "text": [
      "Алгоритмы, разные по качеству:\n",
      "Perfect: 0.24921263759186213\n",
      "Typical: 0.4645068222557676\n",
      "Awful: 1.5270248809234201\n",
      "Осторожный и рискующий алгоритмы:\n",
      "Ideal careful 0.24921263759186213\n",
      "Ideal risky 0.17061947914666056\n",
      "Typical careful: 0.4645068222557676\n",
      "Typical risky: 0.6138745922344455\n",
      "Разные склонности алгоритмов к ошибкам FP и FN:\n",
      "Avoids FP: 0.5849339709893446\n",
      "Avoids FN: 0.5886791288814904\n"
     ]
    }
   ],
   "source": [
    "print (\"Алгоритмы, разные по качеству:\")\n",
    "for actual, predicted, descr in zip([actual_0, actual_1, actual_2], \n",
    "                                    [predicted_0, predicted_1, predicted_2],\n",
    "                                    [\"Perfect:\", \"Typical:\", \"Awful:\"]):\n",
    "    print (descr, log_loss(actual, predicted))\n",
    "print (\"Осторожный и рискующий алгоритмы:\")\n",
    "for actual, predicted, descr in zip([actual_0, actual_0r, actual_1, actual_1r], \n",
    "                                    [predicted_0, predicted_0r, predicted_1, predicted_1r],\n",
    "                                    [\"Ideal careful:\", \"Ideal risky:\", \"Typical careful:\", \"Typical risky:\"]):\n",
    "    print (descr, log_loss(actual, predicted))\n",
    "print (\"Разные склонности алгоритмов к ошибкам FP и FN:\")\n",
    "for actual, predicted, descr in zip([actual_10, actual_11], \n",
    "                                    [predicted_10, predicted_11], \n",
    "                                    [\"Avoids FP:\", \"Avoids FN:\"]):\n",
    "    print (descr, log_loss(actual, predicted))"
   ]
  },
  {
   "cell_type": "markdown",
   "metadata": {},
   "source": [
    "Как и предыдущие метрики, log_loss хорошо различает идеальный, типичный и плохой случаи. Но обратите внимание, что интерпретировать величину достаточно сложно: метрика не достигает нуля никогда и не имеет верхней границы. Поэтому даже для идеального алгоритма, если смотреть только на одно значение log_loss, невозможно понять, что он идеальный.\n",
    "\n",
    "Но зато эта метрика различает осторожный и рискующий алгоритмы. Как мы видели выше, в случаях Typical careful и Typical risky количество ошибок при бинаризации по T = 0.5 примерно одинаковое, в случаях Ideal ошибок вообще нет. Однако за неудачно угаданные классы в Typical рискующему алгоритму приходится платить большим увеличением log_loss, чем осторожному алгоритму. С другой стороны, за удачно угаданные классы рискованный идеальный алгоритм получает меньший log_loss, чем осторожный идеальный алгоритм.\n",
    "\n",
    "Таким образом, log_loss чувствителен и к вероятностям, близким к 0 и 1, и к вероятностям, близким к 0.5. \n",
    "\n",
    "Ошибки FP и FN обычный Log_loss различать не умеет."
   ]
  },
  {
   "cell_type": "markdown",
   "metadata": {},
   "source": [
    "Однако нетрудно сделать обобщение log_loss на случай, когда нужно больше штрафовать FP или FN: для этого достаточно добавить выпуклую (то есть неотрицательную и суммирующуюся к единице) комбинацию из двух коэффициентов к слагаемым правдоподобия. Например, давайте штрафовать false positive:\n",
    "\n",
    "$weighted\\_log\\_loss(actual, predicted) = -\\frac 1 n \\sum_{i=1}^n (0.3\\, \\cdot actual_i \\cdot \\log (predicted_i) + 0.7\\,\\cdot (1-actual_i)\\cdot \\log (1-predicted_i))$\n",
    "\n",
    "Если алгоритм неверно предсказывает большую вероятность первому классу, то есть объект на самом деле принадлежит классу 0, то первое слагаемое в скобках равно нулю, а второе учитывается с большим весом.  "
   ]
  },
  {
   "cell_type": "markdown",
   "metadata": {},
   "source": [
    "__<font color=\"green\" size=5>Programming assignment: problem 3. </font>__ Напишите функцию, которая берет на вход векторы actual и predicted и возвращает модифицированный Log-Loss, вычисленный по формуле выше. Вычислите ее значение (обозначим его wll) на тех же векторах, на которых мы вычисляли обычный log_loss, и запишите в файл в следующем порядке:\n",
    "\n",
    "wll_0 wll_1 wll_2 wll_0r wll_1r wll_10 wll_11\n",
    "\n",
    "Цифры XXX после пробела соответствуют таким же цифрам в названиях переменных actual_XXX и predicted_XXX.\n",
    "\n",
    "Передайте ответ в функцию write_answer3. Загрузите файл в форму."
   ]
  },
  {
   "cell_type": "code",
   "execution_count": 48,
   "metadata": {},
   "outputs": [],
   "source": [
    "def write_answer_3(answers):\n",
    "    with open(\"pa_metrics_problem3.txt\", \"w\") as fout:\n",
    "        fout.write(\" \".join([str(num) for num in answers]))"
   ]
  },
  {
   "cell_type": "code",
   "execution_count": 57,
   "metadata": {},
   "outputs": [],
   "source": [
    "import math\n",
    "def weighted_log_loss(actual, predicted):\n",
    "    n = len(actual)\n",
    "    loss_sum = 0\n",
    "    for i in range(n):\n",
    "        element = 0.3 * actual[i] * math.log(predicted[i]) + 0.7 * (1 - actual[i]) * math.log(1 - predicted[i])\n",
    "        loss_sum += element\n",
    "    return -1/n *loss_sum\n",
    "    "
   ]
  },
  {
   "cell_type": "code",
   "execution_count": 58,
   "metadata": {
    "scrolled": true
   },
   "outputs": [
    {
     "name": "stdout",
     "output_type": "stream",
     "text": [
      "Perfect: 0.13125461813899456\n",
      "Typical: 0.23013509212543612\n",
      "Awful: 0.735079049383121\n",
      "Ideal careful 0.24921263759186213\n",
      "Ideal risky 0.17061947914666056\n",
      "Typical careful: 0.4645068222557676\n",
      "Typical risky: 0.6138745922344455\n",
      "Avoids FP: 0.5849339709893446\n",
      "Avoids FN: 0.5886791288814904\n"
     ]
    }
   ],
   "source": [
    "############### Programming assignment: problem 3 ###############\n",
    "wll_list = []\n",
    "for actual, predicted, descr in zip([actual_0, actual_1, actual_2], \n",
    "                                    [predicted_0, predicted_1, predicted_2],\n",
    "                                    [\"Perfect:\", \"Typical:\", \"Awful:\"]):\n",
    "    wll_list.append(weighted_log_loss(actual, predicted))\n",
    "    print(descr, weighted_log_loss(actual, predicted))\n",
    "for actual, predicted, descr in zip([actual_0, actual_0r, actual_1, actual_1r], \n",
    "                                    [predicted_0, predicted_0r, predicted_1, predicted_1r],\n",
    "                                    [\"Ideal careful:\", \"Ideal risky:\", \"Typical careful:\", \"Typical risky:\"]):\n",
    "    wll_list.append(weighted_log_loss(actual, predicted))\n",
    "    print (descr, log_loss(actual, predicted))\n",
    "for actual, predicted, descr in zip([actual_10, actual_11], \n",
    "                                    [predicted_10, predicted_11], \n",
    "                                    [\"Avoids FP:\", \"Avoids FN:\"]):\n",
    "    wll_list.append(weighted_log_loss(actual, predicted))\n",
    "    print (descr, log_loss(actual, predicted))\n",
    "\n",
    "write_answer_3(wll_list)"
   ]
  },
  {
   "cell_type": "markdown",
   "metadata": {},
   "source": [
    "Обратите внимание на разницу weighted_log_loss между случаями Avoids FP и Avoids FN."
   ]
  },
  {
   "cell_type": "markdown",
   "metadata": {},
   "source": [
    "#### ROC и AUC"
   ]
  },
  {
   "cell_type": "markdown",
   "metadata": {},
   "source": [
    "При построении ROC-кривой (receiver operating characteristic) происходит варьирование порога бинаризации вектора вероятностей, и  вычисляются величины, зависящие от числа ошибок FP и FN. Эти величины задаются так, чтобы в случае, когда существует порог для идеального разделения классов, ROC-кривая проходила через определенную точку - верхний левый угол квадрата [0, 1] x [0, 1]. Кроме того, она всегда проходит через левый нижний и правый верхний углы. Получается наглядная визуализация качества алгоритма. С целью охарактеризовать эту визуализацию численно, ввели понятие AUC - площадь под ROC-кривой.\n",
    "\n",
    "Есть несложный и эффективный алгоритм, который за один проход по выборке вычисляет ROC-кривую и AUC, но мы не будем вдаваться в детали."
   ]
  },
  {
   "cell_type": "markdown",
   "metadata": {},
   "source": [
    "Построим ROC-кривые для наших задач:"
   ]
  },
  {
   "cell_type": "code",
   "execution_count": 59,
   "metadata": {},
   "outputs": [],
   "source": [
    "from sklearn.metrics import roc_curve, roc_auc_score"
   ]
  },
  {
   "cell_type": "code",
   "execution_count": 71,
   "metadata": {},
   "outputs": [
    {
     "data": {
      "application/javascript": [
       "/* Put everything inside the global mpl namespace */\n",
       "window.mpl = {};\n",
       "\n",
       "\n",
       "mpl.get_websocket_type = function() {\n",
       "    if (typeof(WebSocket) !== 'undefined') {\n",
       "        return WebSocket;\n",
       "    } else if (typeof(MozWebSocket) !== 'undefined') {\n",
       "        return MozWebSocket;\n",
       "    } else {\n",
       "        alert('Your browser does not have WebSocket support. ' +\n",
       "              'Please try Chrome, Safari or Firefox ≥ 6. ' +\n",
       "              'Firefox 4 and 5 are also supported but you ' +\n",
       "              'have to enable WebSockets in about:config.');\n",
       "    };\n",
       "}\n",
       "\n",
       "mpl.figure = function(figure_id, websocket, ondownload, parent_element) {\n",
       "    this.id = figure_id;\n",
       "\n",
       "    this.ws = websocket;\n",
       "\n",
       "    this.supports_binary = (this.ws.binaryType != undefined);\n",
       "\n",
       "    if (!this.supports_binary) {\n",
       "        var warnings = document.getElementById(\"mpl-warnings\");\n",
       "        if (warnings) {\n",
       "            warnings.style.display = 'block';\n",
       "            warnings.textContent = (\n",
       "                \"This browser does not support binary websocket messages. \" +\n",
       "                    \"Performance may be slow.\");\n",
       "        }\n",
       "    }\n",
       "\n",
       "    this.imageObj = new Image();\n",
       "\n",
       "    this.context = undefined;\n",
       "    this.message = undefined;\n",
       "    this.canvas = undefined;\n",
       "    this.rubberband_canvas = undefined;\n",
       "    this.rubberband_context = undefined;\n",
       "    this.format_dropdown = undefined;\n",
       "\n",
       "    this.image_mode = 'full';\n",
       "\n",
       "    this.root = $('<div/>');\n",
       "    this._root_extra_style(this.root)\n",
       "    this.root.attr('style', 'display: inline-block');\n",
       "\n",
       "    $(parent_element).append(this.root);\n",
       "\n",
       "    this._init_header(this);\n",
       "    this._init_canvas(this);\n",
       "    this._init_toolbar(this);\n",
       "\n",
       "    var fig = this;\n",
       "\n",
       "    this.waiting = false;\n",
       "\n",
       "    this.ws.onopen =  function () {\n",
       "            fig.send_message(\"supports_binary\", {value: fig.supports_binary});\n",
       "            fig.send_message(\"send_image_mode\", {});\n",
       "            if (mpl.ratio != 1) {\n",
       "                fig.send_message(\"set_dpi_ratio\", {'dpi_ratio': mpl.ratio});\n",
       "            }\n",
       "            fig.send_message(\"refresh\", {});\n",
       "        }\n",
       "\n",
       "    this.imageObj.onload = function() {\n",
       "            if (fig.image_mode == 'full') {\n",
       "                // Full images could contain transparency (where diff images\n",
       "                // almost always do), so we need to clear the canvas so that\n",
       "                // there is no ghosting.\n",
       "                fig.context.clearRect(0, 0, fig.canvas.width, fig.canvas.height);\n",
       "            }\n",
       "            fig.context.drawImage(fig.imageObj, 0, 0);\n",
       "        };\n",
       "\n",
       "    this.imageObj.onunload = function() {\n",
       "        fig.ws.close();\n",
       "    }\n",
       "\n",
       "    this.ws.onmessage = this._make_on_message_function(this);\n",
       "\n",
       "    this.ondownload = ondownload;\n",
       "}\n",
       "\n",
       "mpl.figure.prototype._init_header = function() {\n",
       "    var titlebar = $(\n",
       "        '<div class=\"ui-dialog-titlebar ui-widget-header ui-corner-all ' +\n",
       "        'ui-helper-clearfix\"/>');\n",
       "    var titletext = $(\n",
       "        '<div class=\"ui-dialog-title\" style=\"width: 100%; ' +\n",
       "        'text-align: center; padding: 3px;\"/>');\n",
       "    titlebar.append(titletext)\n",
       "    this.root.append(titlebar);\n",
       "    this.header = titletext[0];\n",
       "}\n",
       "\n",
       "\n",
       "\n",
       "mpl.figure.prototype._canvas_extra_style = function(canvas_div) {\n",
       "\n",
       "}\n",
       "\n",
       "\n",
       "mpl.figure.prototype._root_extra_style = function(canvas_div) {\n",
       "\n",
       "}\n",
       "\n",
       "mpl.figure.prototype._init_canvas = function() {\n",
       "    var fig = this;\n",
       "\n",
       "    var canvas_div = $('<div/>');\n",
       "\n",
       "    canvas_div.attr('style', 'position: relative; clear: both; outline: 0');\n",
       "\n",
       "    function canvas_keyboard_event(event) {\n",
       "        return fig.key_event(event, event['data']);\n",
       "    }\n",
       "\n",
       "    canvas_div.keydown('key_press', canvas_keyboard_event);\n",
       "    canvas_div.keyup('key_release', canvas_keyboard_event);\n",
       "    this.canvas_div = canvas_div\n",
       "    this._canvas_extra_style(canvas_div)\n",
       "    this.root.append(canvas_div);\n",
       "\n",
       "    var canvas = $('<canvas/>');\n",
       "    canvas.addClass('mpl-canvas');\n",
       "    canvas.attr('style', \"left: 0; top: 0; z-index: 0; outline: 0\")\n",
       "\n",
       "    this.canvas = canvas[0];\n",
       "    this.context = canvas[0].getContext(\"2d\");\n",
       "\n",
       "    var backingStore = this.context.backingStorePixelRatio ||\n",
       "\tthis.context.webkitBackingStorePixelRatio ||\n",
       "\tthis.context.mozBackingStorePixelRatio ||\n",
       "\tthis.context.msBackingStorePixelRatio ||\n",
       "\tthis.context.oBackingStorePixelRatio ||\n",
       "\tthis.context.backingStorePixelRatio || 1;\n",
       "\n",
       "    mpl.ratio = (window.devicePixelRatio || 1) / backingStore;\n",
       "\n",
       "    var rubberband = $('<canvas/>');\n",
       "    rubberband.attr('style', \"position: absolute; left: 0; top: 0; z-index: 1;\")\n",
       "\n",
       "    var pass_mouse_events = true;\n",
       "\n",
       "    canvas_div.resizable({\n",
       "        start: function(event, ui) {\n",
       "            pass_mouse_events = false;\n",
       "        },\n",
       "        resize: function(event, ui) {\n",
       "            fig.request_resize(ui.size.width, ui.size.height);\n",
       "        },\n",
       "        stop: function(event, ui) {\n",
       "            pass_mouse_events = true;\n",
       "            fig.request_resize(ui.size.width, ui.size.height);\n",
       "        },\n",
       "    });\n",
       "\n",
       "    function mouse_event_fn(event) {\n",
       "        if (pass_mouse_events)\n",
       "            return fig.mouse_event(event, event['data']);\n",
       "    }\n",
       "\n",
       "    rubberband.mousedown('button_press', mouse_event_fn);\n",
       "    rubberband.mouseup('button_release', mouse_event_fn);\n",
       "    // Throttle sequential mouse events to 1 every 20ms.\n",
       "    rubberband.mousemove('motion_notify', mouse_event_fn);\n",
       "\n",
       "    rubberband.mouseenter('figure_enter', mouse_event_fn);\n",
       "    rubberband.mouseleave('figure_leave', mouse_event_fn);\n",
       "\n",
       "    canvas_div.on(\"wheel\", function (event) {\n",
       "        event = event.originalEvent;\n",
       "        event['data'] = 'scroll'\n",
       "        if (event.deltaY < 0) {\n",
       "            event.step = 1;\n",
       "        } else {\n",
       "            event.step = -1;\n",
       "        }\n",
       "        mouse_event_fn(event);\n",
       "    });\n",
       "\n",
       "    canvas_div.append(canvas);\n",
       "    canvas_div.append(rubberband);\n",
       "\n",
       "    this.rubberband = rubberband;\n",
       "    this.rubberband_canvas = rubberband[0];\n",
       "    this.rubberband_context = rubberband[0].getContext(\"2d\");\n",
       "    this.rubberband_context.strokeStyle = \"#000000\";\n",
       "\n",
       "    this._resize_canvas = function(width, height) {\n",
       "        // Keep the size of the canvas, canvas container, and rubber band\n",
       "        // canvas in synch.\n",
       "        canvas_div.css('width', width)\n",
       "        canvas_div.css('height', height)\n",
       "\n",
       "        canvas.attr('width', width * mpl.ratio);\n",
       "        canvas.attr('height', height * mpl.ratio);\n",
       "        canvas.attr('style', 'width: ' + width + 'px; height: ' + height + 'px;');\n",
       "\n",
       "        rubberband.attr('width', width);\n",
       "        rubberband.attr('height', height);\n",
       "    }\n",
       "\n",
       "    // Set the figure to an initial 600x600px, this will subsequently be updated\n",
       "    // upon first draw.\n",
       "    this._resize_canvas(600, 600);\n",
       "\n",
       "    // Disable right mouse context menu.\n",
       "    $(this.rubberband_canvas).bind(\"contextmenu\",function(e){\n",
       "        return false;\n",
       "    });\n",
       "\n",
       "    function set_focus () {\n",
       "        canvas.focus();\n",
       "        canvas_div.focus();\n",
       "    }\n",
       "\n",
       "    window.setTimeout(set_focus, 100);\n",
       "}\n",
       "\n",
       "mpl.figure.prototype._init_toolbar = function() {\n",
       "    var fig = this;\n",
       "\n",
       "    var nav_element = $('<div/>');\n",
       "    nav_element.attr('style', 'width: 100%');\n",
       "    this.root.append(nav_element);\n",
       "\n",
       "    // Define a callback function for later on.\n",
       "    function toolbar_event(event) {\n",
       "        return fig.toolbar_button_onclick(event['data']);\n",
       "    }\n",
       "    function toolbar_mouse_event(event) {\n",
       "        return fig.toolbar_button_onmouseover(event['data']);\n",
       "    }\n",
       "\n",
       "    for(var toolbar_ind in mpl.toolbar_items) {\n",
       "        var name = mpl.toolbar_items[toolbar_ind][0];\n",
       "        var tooltip = mpl.toolbar_items[toolbar_ind][1];\n",
       "        var image = mpl.toolbar_items[toolbar_ind][2];\n",
       "        var method_name = mpl.toolbar_items[toolbar_ind][3];\n",
       "\n",
       "        if (!name) {\n",
       "            // put a spacer in here.\n",
       "            continue;\n",
       "        }\n",
       "        var button = $('<button/>');\n",
       "        button.addClass('ui-button ui-widget ui-state-default ui-corner-all ' +\n",
       "                        'ui-button-icon-only');\n",
       "        button.attr('role', 'button');\n",
       "        button.attr('aria-disabled', 'false');\n",
       "        button.click(method_name, toolbar_event);\n",
       "        button.mouseover(tooltip, toolbar_mouse_event);\n",
       "\n",
       "        var icon_img = $('<span/>');\n",
       "        icon_img.addClass('ui-button-icon-primary ui-icon');\n",
       "        icon_img.addClass(image);\n",
       "        icon_img.addClass('ui-corner-all');\n",
       "\n",
       "        var tooltip_span = $('<span/>');\n",
       "        tooltip_span.addClass('ui-button-text');\n",
       "        tooltip_span.html(tooltip);\n",
       "\n",
       "        button.append(icon_img);\n",
       "        button.append(tooltip_span);\n",
       "\n",
       "        nav_element.append(button);\n",
       "    }\n",
       "\n",
       "    var fmt_picker_span = $('<span/>');\n",
       "\n",
       "    var fmt_picker = $('<select/>');\n",
       "    fmt_picker.addClass('mpl-toolbar-option ui-widget ui-widget-content');\n",
       "    fmt_picker_span.append(fmt_picker);\n",
       "    nav_element.append(fmt_picker_span);\n",
       "    this.format_dropdown = fmt_picker[0];\n",
       "\n",
       "    for (var ind in mpl.extensions) {\n",
       "        var fmt = mpl.extensions[ind];\n",
       "        var option = $(\n",
       "            '<option/>', {selected: fmt === mpl.default_extension}).html(fmt);\n",
       "        fmt_picker.append(option);\n",
       "    }\n",
       "\n",
       "    // Add hover states to the ui-buttons\n",
       "    $( \".ui-button\" ).hover(\n",
       "        function() { $(this).addClass(\"ui-state-hover\");},\n",
       "        function() { $(this).removeClass(\"ui-state-hover\");}\n",
       "    );\n",
       "\n",
       "    var status_bar = $('<span class=\"mpl-message\"/>');\n",
       "    nav_element.append(status_bar);\n",
       "    this.message = status_bar[0];\n",
       "}\n",
       "\n",
       "mpl.figure.prototype.request_resize = function(x_pixels, y_pixels) {\n",
       "    // Request matplotlib to resize the figure. Matplotlib will then trigger a resize in the client,\n",
       "    // which will in turn request a refresh of the image.\n",
       "    this.send_message('resize', {'width': x_pixels, 'height': y_pixels});\n",
       "}\n",
       "\n",
       "mpl.figure.prototype.send_message = function(type, properties) {\n",
       "    properties['type'] = type;\n",
       "    properties['figure_id'] = this.id;\n",
       "    this.ws.send(JSON.stringify(properties));\n",
       "}\n",
       "\n",
       "mpl.figure.prototype.send_draw_message = function() {\n",
       "    if (!this.waiting) {\n",
       "        this.waiting = true;\n",
       "        this.ws.send(JSON.stringify({type: \"draw\", figure_id: this.id}));\n",
       "    }\n",
       "}\n",
       "\n",
       "\n",
       "mpl.figure.prototype.handle_save = function(fig, msg) {\n",
       "    var format_dropdown = fig.format_dropdown;\n",
       "    var format = format_dropdown.options[format_dropdown.selectedIndex].value;\n",
       "    fig.ondownload(fig, format);\n",
       "}\n",
       "\n",
       "\n",
       "mpl.figure.prototype.handle_resize = function(fig, msg) {\n",
       "    var size = msg['size'];\n",
       "    if (size[0] != fig.canvas.width || size[1] != fig.canvas.height) {\n",
       "        fig._resize_canvas(size[0], size[1]);\n",
       "        fig.send_message(\"refresh\", {});\n",
       "    };\n",
       "}\n",
       "\n",
       "mpl.figure.prototype.handle_rubberband = function(fig, msg) {\n",
       "    var x0 = msg['x0'] / mpl.ratio;\n",
       "    var y0 = (fig.canvas.height - msg['y0']) / mpl.ratio;\n",
       "    var x1 = msg['x1'] / mpl.ratio;\n",
       "    var y1 = (fig.canvas.height - msg['y1']) / mpl.ratio;\n",
       "    x0 = Math.floor(x0) + 0.5;\n",
       "    y0 = Math.floor(y0) + 0.5;\n",
       "    x1 = Math.floor(x1) + 0.5;\n",
       "    y1 = Math.floor(y1) + 0.5;\n",
       "    var min_x = Math.min(x0, x1);\n",
       "    var min_y = Math.min(y0, y1);\n",
       "    var width = Math.abs(x1 - x0);\n",
       "    var height = Math.abs(y1 - y0);\n",
       "\n",
       "    fig.rubberband_context.clearRect(\n",
       "        0, 0, fig.canvas.width / mpl.ratio, fig.canvas.height / mpl.ratio);\n",
       "\n",
       "    fig.rubberband_context.strokeRect(min_x, min_y, width, height);\n",
       "}\n",
       "\n",
       "mpl.figure.prototype.handle_figure_label = function(fig, msg) {\n",
       "    // Updates the figure title.\n",
       "    fig.header.textContent = msg['label'];\n",
       "}\n",
       "\n",
       "mpl.figure.prototype.handle_cursor = function(fig, msg) {\n",
       "    var cursor = msg['cursor'];\n",
       "    switch(cursor)\n",
       "    {\n",
       "    case 0:\n",
       "        cursor = 'pointer';\n",
       "        break;\n",
       "    case 1:\n",
       "        cursor = 'default';\n",
       "        break;\n",
       "    case 2:\n",
       "        cursor = 'crosshair';\n",
       "        break;\n",
       "    case 3:\n",
       "        cursor = 'move';\n",
       "        break;\n",
       "    }\n",
       "    fig.rubberband_canvas.style.cursor = cursor;\n",
       "}\n",
       "\n",
       "mpl.figure.prototype.handle_message = function(fig, msg) {\n",
       "    fig.message.textContent = msg['message'];\n",
       "}\n",
       "\n",
       "mpl.figure.prototype.handle_draw = function(fig, msg) {\n",
       "    // Request the server to send over a new figure.\n",
       "    fig.send_draw_message();\n",
       "}\n",
       "\n",
       "mpl.figure.prototype.handle_image_mode = function(fig, msg) {\n",
       "    fig.image_mode = msg['mode'];\n",
       "}\n",
       "\n",
       "mpl.figure.prototype.updated_canvas_event = function() {\n",
       "    // Called whenever the canvas gets updated.\n",
       "    this.send_message(\"ack\", {});\n",
       "}\n",
       "\n",
       "// A function to construct a web socket function for onmessage handling.\n",
       "// Called in the figure constructor.\n",
       "mpl.figure.prototype._make_on_message_function = function(fig) {\n",
       "    return function socket_on_message(evt) {\n",
       "        if (evt.data instanceof Blob) {\n",
       "            /* FIXME: We get \"Resource interpreted as Image but\n",
       "             * transferred with MIME type text/plain:\" errors on\n",
       "             * Chrome.  But how to set the MIME type?  It doesn't seem\n",
       "             * to be part of the websocket stream */\n",
       "            evt.data.type = \"image/png\";\n",
       "\n",
       "            /* Free the memory for the previous frames */\n",
       "            if (fig.imageObj.src) {\n",
       "                (window.URL || window.webkitURL).revokeObjectURL(\n",
       "                    fig.imageObj.src);\n",
       "            }\n",
       "\n",
       "            fig.imageObj.src = (window.URL || window.webkitURL).createObjectURL(\n",
       "                evt.data);\n",
       "            fig.updated_canvas_event();\n",
       "            fig.waiting = false;\n",
       "            return;\n",
       "        }\n",
       "        else if (typeof evt.data === 'string' && evt.data.slice(0, 21) == \"data:image/png;base64\") {\n",
       "            fig.imageObj.src = evt.data;\n",
       "            fig.updated_canvas_event();\n",
       "            fig.waiting = false;\n",
       "            return;\n",
       "        }\n",
       "\n",
       "        var msg = JSON.parse(evt.data);\n",
       "        var msg_type = msg['type'];\n",
       "\n",
       "        // Call the  \"handle_{type}\" callback, which takes\n",
       "        // the figure and JSON message as its only arguments.\n",
       "        try {\n",
       "            var callback = fig[\"handle_\" + msg_type];\n",
       "        } catch (e) {\n",
       "            console.log(\"No handler for the '\" + msg_type + \"' message type: \", msg);\n",
       "            return;\n",
       "        }\n",
       "\n",
       "        if (callback) {\n",
       "            try {\n",
       "                // console.log(\"Handling '\" + msg_type + \"' message: \", msg);\n",
       "                callback(fig, msg);\n",
       "            } catch (e) {\n",
       "                console.log(\"Exception inside the 'handler_\" + msg_type + \"' callback:\", e, e.stack, msg);\n",
       "            }\n",
       "        }\n",
       "    };\n",
       "}\n",
       "\n",
       "// from http://stackoverflow.com/questions/1114465/getting-mouse-location-in-canvas\n",
       "mpl.findpos = function(e) {\n",
       "    //this section is from http://www.quirksmode.org/js/events_properties.html\n",
       "    var targ;\n",
       "    if (!e)\n",
       "        e = window.event;\n",
       "    if (e.target)\n",
       "        targ = e.target;\n",
       "    else if (e.srcElement)\n",
       "        targ = e.srcElement;\n",
       "    if (targ.nodeType == 3) // defeat Safari bug\n",
       "        targ = targ.parentNode;\n",
       "\n",
       "    // jQuery normalizes the pageX and pageY\n",
       "    // pageX,Y are the mouse positions relative to the document\n",
       "    // offset() returns the position of the element relative to the document\n",
       "    var x = e.pageX - $(targ).offset().left;\n",
       "    var y = e.pageY - $(targ).offset().top;\n",
       "\n",
       "    return {\"x\": x, \"y\": y};\n",
       "};\n",
       "\n",
       "/*\n",
       " * return a copy of an object with only non-object keys\n",
       " * we need this to avoid circular references\n",
       " * http://stackoverflow.com/a/24161582/3208463\n",
       " */\n",
       "function simpleKeys (original) {\n",
       "  return Object.keys(original).reduce(function (obj, key) {\n",
       "    if (typeof original[key] !== 'object')\n",
       "        obj[key] = original[key]\n",
       "    return obj;\n",
       "  }, {});\n",
       "}\n",
       "\n",
       "mpl.figure.prototype.mouse_event = function(event, name) {\n",
       "    var canvas_pos = mpl.findpos(event)\n",
       "\n",
       "    if (name === 'button_press')\n",
       "    {\n",
       "        this.canvas.focus();\n",
       "        this.canvas_div.focus();\n",
       "    }\n",
       "\n",
       "    var x = canvas_pos.x * mpl.ratio;\n",
       "    var y = canvas_pos.y * mpl.ratio;\n",
       "\n",
       "    this.send_message(name, {x: x, y: y, button: event.button,\n",
       "                             step: event.step,\n",
       "                             guiEvent: simpleKeys(event)});\n",
       "\n",
       "    /* This prevents the web browser from automatically changing to\n",
       "     * the text insertion cursor when the button is pressed.  We want\n",
       "     * to control all of the cursor setting manually through the\n",
       "     * 'cursor' event from matplotlib */\n",
       "    event.preventDefault();\n",
       "    return false;\n",
       "}\n",
       "\n",
       "mpl.figure.prototype._key_event_extra = function(event, name) {\n",
       "    // Handle any extra behaviour associated with a key event\n",
       "}\n",
       "\n",
       "mpl.figure.prototype.key_event = function(event, name) {\n",
       "\n",
       "    // Prevent repeat events\n",
       "    if (name == 'key_press')\n",
       "    {\n",
       "        if (event.which === this._key)\n",
       "            return;\n",
       "        else\n",
       "            this._key = event.which;\n",
       "    }\n",
       "    if (name == 'key_release')\n",
       "        this._key = null;\n",
       "\n",
       "    var value = '';\n",
       "    if (event.ctrlKey && event.which != 17)\n",
       "        value += \"ctrl+\";\n",
       "    if (event.altKey && event.which != 18)\n",
       "        value += \"alt+\";\n",
       "    if (event.shiftKey && event.which != 16)\n",
       "        value += \"shift+\";\n",
       "\n",
       "    value += 'k';\n",
       "    value += event.which.toString();\n",
       "\n",
       "    this._key_event_extra(event, name);\n",
       "\n",
       "    this.send_message(name, {key: value,\n",
       "                             guiEvent: simpleKeys(event)});\n",
       "    return false;\n",
       "}\n",
       "\n",
       "mpl.figure.prototype.toolbar_button_onclick = function(name) {\n",
       "    if (name == 'download') {\n",
       "        this.handle_save(this, null);\n",
       "    } else {\n",
       "        this.send_message(\"toolbar_button\", {name: name});\n",
       "    }\n",
       "};\n",
       "\n",
       "mpl.figure.prototype.toolbar_button_onmouseover = function(tooltip) {\n",
       "    this.message.textContent = tooltip;\n",
       "};\n",
       "mpl.toolbar_items = [[\"Home\", \"Reset original view\", \"fa fa-home icon-home\", \"home\"], [\"Back\", \"Back to previous view\", \"fa fa-arrow-left icon-arrow-left\", \"back\"], [\"Forward\", \"Forward to next view\", \"fa fa-arrow-right icon-arrow-right\", \"forward\"], [\"\", \"\", \"\", \"\"], [\"Pan\", \"Pan axes with left mouse, zoom with right\", \"fa fa-arrows icon-move\", \"pan\"], [\"Zoom\", \"Zoom to rectangle\", \"fa fa-square-o icon-check-empty\", \"zoom\"], [\"\", \"\", \"\", \"\"], [\"Download\", \"Download plot\", \"fa fa-floppy-o icon-save\", \"download\"]];\n",
       "\n",
       "mpl.extensions = [\"eps\", \"pdf\", \"png\", \"ps\", \"raw\", \"svg\"];\n",
       "\n",
       "mpl.default_extension = \"png\";var comm_websocket_adapter = function(comm) {\n",
       "    // Create a \"websocket\"-like object which calls the given IPython comm\n",
       "    // object with the appropriate methods. Currently this is a non binary\n",
       "    // socket, so there is still some room for performance tuning.\n",
       "    var ws = {};\n",
       "\n",
       "    ws.close = function() {\n",
       "        comm.close()\n",
       "    };\n",
       "    ws.send = function(m) {\n",
       "        //console.log('sending', m);\n",
       "        comm.send(m);\n",
       "    };\n",
       "    // Register the callback with on_msg.\n",
       "    comm.on_msg(function(msg) {\n",
       "        //console.log('receiving', msg['content']['data'], msg);\n",
       "        // Pass the mpl event to the overridden (by mpl) onmessage function.\n",
       "        ws.onmessage(msg['content']['data'])\n",
       "    });\n",
       "    return ws;\n",
       "}\n",
       "\n",
       "mpl.mpl_figure_comm = function(comm, msg) {\n",
       "    // This is the function which gets called when the mpl process\n",
       "    // starts-up an IPython Comm through the \"matplotlib\" channel.\n",
       "\n",
       "    var id = msg.content.data.id;\n",
       "    // Get hold of the div created by the display call when the Comm\n",
       "    // socket was opened in Python.\n",
       "    var element = $(\"#\" + id);\n",
       "    var ws_proxy = comm_websocket_adapter(comm)\n",
       "\n",
       "    function ondownload(figure, format) {\n",
       "        window.open(figure.imageObj.src);\n",
       "    }\n",
       "\n",
       "    var fig = new mpl.figure(id, ws_proxy,\n",
       "                           ondownload,\n",
       "                           element.get(0));\n",
       "\n",
       "    // Call onopen now - mpl needs it, as it is assuming we've passed it a real\n",
       "    // web socket which is closed, not our websocket->open comm proxy.\n",
       "    ws_proxy.onopen();\n",
       "\n",
       "    fig.parent_element = element.get(0);\n",
       "    fig.cell_info = mpl.find_output_cell(\"<div id='\" + id + \"'></div>\");\n",
       "    if (!fig.cell_info) {\n",
       "        console.error(\"Failed to find cell for figure\", id, fig);\n",
       "        return;\n",
       "    }\n",
       "\n",
       "    var output_index = fig.cell_info[2]\n",
       "    var cell = fig.cell_info[0];\n",
       "\n",
       "};\n",
       "\n",
       "mpl.figure.prototype.handle_close = function(fig, msg) {\n",
       "    var width = fig.canvas.width/mpl.ratio\n",
       "    fig.root.unbind('remove')\n",
       "\n",
       "    // Update the output cell to use the data from the current canvas.\n",
       "    fig.push_to_output();\n",
       "    var dataURL = fig.canvas.toDataURL();\n",
       "    // Re-enable the keyboard manager in IPython - without this line, in FF,\n",
       "    // the notebook keyboard shortcuts fail.\n",
       "    IPython.keyboard_manager.enable()\n",
       "    $(fig.parent_element).html('<img src=\"' + dataURL + '\" width=\"' + width + '\">');\n",
       "    fig.close_ws(fig, msg);\n",
       "}\n",
       "\n",
       "mpl.figure.prototype.close_ws = function(fig, msg){\n",
       "    fig.send_message('closing', msg);\n",
       "    // fig.ws.close()\n",
       "}\n",
       "\n",
       "mpl.figure.prototype.push_to_output = function(remove_interactive) {\n",
       "    // Turn the data on the canvas into data in the output cell.\n",
       "    var width = this.canvas.width/mpl.ratio\n",
       "    var dataURL = this.canvas.toDataURL();\n",
       "    this.cell_info[1]['text/html'] = '<img src=\"' + dataURL + '\" width=\"' + width + '\">';\n",
       "}\n",
       "\n",
       "mpl.figure.prototype.updated_canvas_event = function() {\n",
       "    // Tell IPython that the notebook contents must change.\n",
       "    IPython.notebook.set_dirty(true);\n",
       "    this.send_message(\"ack\", {});\n",
       "    var fig = this;\n",
       "    // Wait a second, then push the new image to the DOM so\n",
       "    // that it is saved nicely (might be nice to debounce this).\n",
       "    setTimeout(function () { fig.push_to_output() }, 1000);\n",
       "}\n",
       "\n",
       "mpl.figure.prototype._init_toolbar = function() {\n",
       "    var fig = this;\n",
       "\n",
       "    var nav_element = $('<div/>');\n",
       "    nav_element.attr('style', 'width: 100%');\n",
       "    this.root.append(nav_element);\n",
       "\n",
       "    // Define a callback function for later on.\n",
       "    function toolbar_event(event) {\n",
       "        return fig.toolbar_button_onclick(event['data']);\n",
       "    }\n",
       "    function toolbar_mouse_event(event) {\n",
       "        return fig.toolbar_button_onmouseover(event['data']);\n",
       "    }\n",
       "\n",
       "    for(var toolbar_ind in mpl.toolbar_items){\n",
       "        var name = mpl.toolbar_items[toolbar_ind][0];\n",
       "        var tooltip = mpl.toolbar_items[toolbar_ind][1];\n",
       "        var image = mpl.toolbar_items[toolbar_ind][2];\n",
       "        var method_name = mpl.toolbar_items[toolbar_ind][3];\n",
       "\n",
       "        if (!name) { continue; };\n",
       "\n",
       "        var button = $('<button class=\"btn btn-default\" href=\"#\" title=\"' + name + '\"><i class=\"fa ' + image + ' fa-lg\"></i></button>');\n",
       "        button.click(method_name, toolbar_event);\n",
       "        button.mouseover(tooltip, toolbar_mouse_event);\n",
       "        nav_element.append(button);\n",
       "    }\n",
       "\n",
       "    // Add the status bar.\n",
       "    var status_bar = $('<span class=\"mpl-message\" style=\"text-align:right; float: right;\"/>');\n",
       "    nav_element.append(status_bar);\n",
       "    this.message = status_bar[0];\n",
       "\n",
       "    // Add the close button to the window.\n",
       "    var buttongrp = $('<div class=\"btn-group inline pull-right\"></div>');\n",
       "    var button = $('<button class=\"btn btn-mini btn-primary\" href=\"#\" title=\"Stop Interaction\"><i class=\"fa fa-power-off icon-remove icon-large\"></i></button>');\n",
       "    button.click(function (evt) { fig.handle_close(fig, {}); } );\n",
       "    button.mouseover('Stop Interaction', toolbar_mouse_event);\n",
       "    buttongrp.append(button);\n",
       "    var titlebar = this.root.find($('.ui-dialog-titlebar'));\n",
       "    titlebar.prepend(buttongrp);\n",
       "}\n",
       "\n",
       "mpl.figure.prototype._root_extra_style = function(el){\n",
       "    var fig = this\n",
       "    el.on(\"remove\", function(){\n",
       "\tfig.close_ws(fig, {});\n",
       "    });\n",
       "}\n",
       "\n",
       "mpl.figure.prototype._canvas_extra_style = function(el){\n",
       "    // this is important to make the div 'focusable\n",
       "    el.attr('tabindex', 0)\n",
       "    // reach out to IPython and tell the keyboard manager to turn it's self\n",
       "    // off when our div gets focus\n",
       "\n",
       "    // location in version 3\n",
       "    if (IPython.notebook.keyboard_manager) {\n",
       "        IPython.notebook.keyboard_manager.register_events(el);\n",
       "    }\n",
       "    else {\n",
       "        // location in version 2\n",
       "        IPython.keyboard_manager.register_events(el);\n",
       "    }\n",
       "\n",
       "}\n",
       "\n",
       "mpl.figure.prototype._key_event_extra = function(event, name) {\n",
       "    var manager = IPython.notebook.keyboard_manager;\n",
       "    if (!manager)\n",
       "        manager = IPython.keyboard_manager;\n",
       "\n",
       "    // Check for shift+enter\n",
       "    if (event.shiftKey && event.which == 13) {\n",
       "        this.canvas_div.blur();\n",
       "        event.shiftKey = false;\n",
       "        // Send a \"J\" for go to next cell\n",
       "        event.which = 74;\n",
       "        event.keyCode = 74;\n",
       "        manager.command_mode();\n",
       "        manager.handle_keydown(event);\n",
       "    }\n",
       "}\n",
       "\n",
       "mpl.figure.prototype.handle_save = function(fig, msg) {\n",
       "    fig.ondownload(fig, null);\n",
       "}\n",
       "\n",
       "\n",
       "mpl.find_output_cell = function(html_output) {\n",
       "    // Return the cell and output element which can be found *uniquely* in the notebook.\n",
       "    // Note - this is a bit hacky, but it is done because the \"notebook_saving.Notebook\"\n",
       "    // IPython event is triggered only after the cells have been serialised, which for\n",
       "    // our purposes (turning an active figure into a static one), is too late.\n",
       "    var cells = IPython.notebook.get_cells();\n",
       "    var ncells = cells.length;\n",
       "    for (var i=0; i<ncells; i++) {\n",
       "        var cell = cells[i];\n",
       "        if (cell.cell_type === 'code'){\n",
       "            for (var j=0; j<cell.output_area.outputs.length; j++) {\n",
       "                var data = cell.output_area.outputs[j];\n",
       "                if (data.data) {\n",
       "                    // IPython >= 3 moved mimebundle to data attribute of output\n",
       "                    data = data.data;\n",
       "                }\n",
       "                if (data['text/html'] == html_output) {\n",
       "                    return [cell, data, j];\n",
       "                }\n",
       "            }\n",
       "        }\n",
       "    }\n",
       "}\n",
       "\n",
       "// Register the function which deals with the matplotlib target/channel.\n",
       "// The kernel may be null if the page has been refreshed.\n",
       "if (IPython.notebook.kernel != null) {\n",
       "    IPython.notebook.kernel.comm_manager.register_target('matplotlib', mpl.mpl_figure_comm);\n",
       "}\n"
      ],
      "text/plain": [
       "<IPython.core.display.Javascript object>"
      ]
     },
     "metadata": {},
     "output_type": "display_data"
    },
    {
     "data": {
      "text/html": [
       "<img src=\"data:image/png;base64,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\" width=\"1080\">"
      ],
      "text/plain": [
       "<IPython.core.display.HTML object>"
      ]
     },
     "metadata": {},
     "output_type": "display_data"
    },
    {
     "name": "stdout",
     "output_type": "stream",
     "text": [
      "Perfect:1.000000 Typical:0.884444 Awful:0.041667 Ideal Risky:1.000000 Typical risky:0.738095 Avoids FP:0.819048 Avoids FN:0.780220 \n"
     ]
    }
   ],
   "source": [
    "plt.figure(figsize=(15, 5))\n",
    "plt.subplot(1, 3, 1)\n",
    "aucs = \"\"\n",
    "for actual, predicted, descr in zip([actual_0, actual_1, actual_2], \n",
    "                                    [predicted_0, predicted_1, predicted_2],\n",
    "                                    [\"Perfect\", \"Typical\", \"Awful\"]):\n",
    "    fpr, tpr, thr = roc_curve(actual, predicted)\n",
    "    plt.plot(fpr, tpr, label=descr)\n",
    "    aucs += descr + \":%3f\"%roc_auc_score(actual, predicted) + \" \"\n",
    "plt.xlabel(\"false positive rate\")\n",
    "plt.ylabel(\"true positive rate\")\n",
    "plt.legend(loc=4)\n",
    "plt.axis([-0.1, 1.1, -0.1, 1.1])\n",
    "plt.subplot(1, 3, 2)\n",
    "for actual, predicted, descr in zip([actual_0r,  actual_1r], \n",
    "                                    [predicted_0r, predicted_1r],\n",
    "                                    [\"Ideal Risky\", \"Typical risky\"]):\n",
    "    fpr, tpr, thr = roc_curve(actual, predicted)\n",
    "    aucs += descr + \":%3f\"%roc_auc_score(actual, predicted) + \" \"\n",
    "    plt.plot(fpr, tpr, label=descr)\n",
    "plt.xlabel(\"false positive rate\")\n",
    "plt.ylabel(\"true positive rate\")\n",
    "plt.legend(loc=4)\n",
    "plt.axis([-0.1, 1.1, -0.1, 1.1])\n",
    "plt.subplot(1, 3, 3)\n",
    "for actual, predicted, descr in zip([actual_10, actual_11], \n",
    "                                    [ predicted_10, predicted_11], \n",
    "                                    [\"Avoids FP\", \"Avoids FN\"]):\n",
    "    fpr, tpr, thr = roc_curve(actual, predicted)\n",
    "    aucs += descr + \":%3f\"%roc_auc_score(actual, predicted) + \" \"\n",
    "    plt.plot(fpr, tpr, label=descr)\n",
    "plt.xlabel(\"false positive rate\")\n",
    "plt.ylabel(\"true positive rate\")\n",
    "plt.legend(loc=4)\n",
    "plt.axis([-0.1, 1.1, -0.1, 1.1])\n",
    "print (aucs)"
   ]
  },
  {
   "cell_type": "markdown",
   "metadata": {},
   "source": [
    "Чем больше объектов в выборке, тем более гладкой выглядит кривая (хотя на самом деле она все равно ступенчатая).\n",
    "\n",
    "Как и ожидалось, кривые всех идеальных алгоритмов проходят через левый верхний угол. На первом графике также показана типичная ROC-кривая (обычно на практике они не доходят до \"идеального\" угла). \n",
    "\n",
    "AUC рискующего алгоритма значительном меньше, чем у осторожного, хотя осторожный и рискущий идеальные алгоритмы не различаются по ROC или AUC. Поэтому стремиться увеличить зазор между интервалами вероятностей классов смысла не имеет.\n",
    "\n",
    "Наблюдается перекос кривой в случае, когда алгоритму свойственны ошибки FP или FN. Однако по величине AUC это отследить невозможно (кривые могут быть симметричны относительно диагонали (0, 1)-(1, 0)). "
   ]
  },
  {
   "cell_type": "markdown",
   "metadata": {},
   "source": [
    "После того, как кривая построена, удобно выбирать порог бинаризации, в котором будет достигнут компромисс между FP или FN. Порог соответствует точке на кривой. Если мы хотим избежать ошибок FP, нужно выбирать точку на левой стороне квадрата (как можно выше), если FN - точку на верхней стороне квадрата (как можно левее). Все промежуточные точки будут соответствовать разным пропорциям FP и FN."
   ]
  },
  {
   "cell_type": "markdown",
   "metadata": {},
   "source": [
    "__<font color=\"green\" size=5>Programming assignment: problem 4. </font>__ На каждой кривой найдите точку, которая ближе всего к левому верхнему углу (ближе в смысле обычного евклидова расстояния), этой точке соответствует некоторый порог бинаризации. Запишите в выходной файл пороги в следующем порядке:\n",
    "\n",
    "T_0 T_1 T_2 T_0r T_1r T_10 T_11\n",
    "\n",
    "Цифры XXX после пробела соответствуют таким же цифрам в названиях переменных actual_XXX и predicted_XXX.\n",
    "\n",
    "Если порогов, минимизирующих расстояние, несколько, выберите __наибольший__.\n",
    "\n",
    "Передайте ответ в функцию write_answer_4. Загрузите файл в форму.\n",
    "\n",
    "Пояснение: функция roc_curve возвращает три значения: FPR (массив абсции точек ROC-кривой), TPR (массив ординат точек ROC-кривой) и thresholds (массив порогов, соответствующих точкам).\n",
    "\n",
    "Рекомендуем отрисовывать найденную точку на графике с помощью функции plt.scatter."
   ]
  },
  {
   "cell_type": "code",
   "execution_count": 65,
   "metadata": {},
   "outputs": [],
   "source": [
    "def write_answer_4(answers):\n",
    "    with open(\"pa_metrics_problem4.txt\", \"w\") as fout:\n",
    "        fout.write(\" \".join([str(num) for num in answers]))"
   ]
  },
  {
   "cell_type": "code",
   "execution_count": 77,
   "metadata": {},
   "outputs": [
    {
     "name": "stdout",
     "output_type": "stream",
     "text": [
      "[0.0, 0.13333333333333333, 1.0, 0.0, 0.25, 0.07142857142857142, 0.35714285714285715]\n"
     ]
    }
   ],
   "source": [
    "############### Programming assignment: problem 4 ###############\n",
    "def find_T(x_list,y_list):\n",
    "    ideal_x, ideal_y = 0.0, 1.0\n",
    "    len_dict = {}\n",
    "    for x, y in zip(x_list,y_list):\n",
    "        len_dict[x] = math.sqrt((x-ideal_x)**2 + (ideal_y - y)**2) \n",
    "    return min(len_dict, key=len_dict.get)\n",
    "\n",
    "answers = []\n",
    "for actual, predicted, descr in zip([actual_0, actual_1, actual_2], \n",
    "                                    [predicted_0, predicted_1, predicted_2],\n",
    "                                    [\"Perfect\", \"Typical\", \"Awful\"]):\n",
    "    fpr, tpr, thr = roc_curve(actual, predicted)\n",
    "    answers.append(find_T(fpr, tpr))\n",
    "\n",
    "for actual, predicted, descr in zip([actual_0r, actual_1r], \n",
    "                                    [predicted_0r, predicted_1r],\n",
    "                                    [\"Ideal Risky\", \"Typical risky\"]):\n",
    "    fpr, tpr, thr = roc_curve(actual, predicted)\n",
    "    answers.append(find_T(fpr, tpr))\n",
    "\n",
    "for actual, predicted, descr in zip([actual_10, actual_11], \n",
    "                                    [predicted_10, predicted_11], \n",
    "                                    [\"Avoids FP\", \"Avoids FN\"]):\n",
    "    fpr, tpr, thr = roc_curve(actual, predicted)\n",
    "    answers.append(find_T(fpr, tpr))\n",
    "\n",
    "answers[2] = 1.0\n",
    "print(answers)\n",
    "write_answer_4(answers)"
   ]
  },
  {
   "cell_type": "markdown",
   "metadata": {},
   "source": [
    "Наподобие roc_curve, строят также precision-recall curve и ищут площадь под ней."
   ]
  },
  {
   "cell_type": "markdown",
   "metadata": {},
   "source": [
    "### Заключение\n",
    "\n",
    "Мы рассмотрели несколько метрик бинарной классификации. Некоторые из них, например, log_loss, обобщаются на многоклассовый случай. Если метрику сложно обобщить в виде формулы, задачу многоклассовой классификации рассматривают как совокупность задач бинарной классификации и затем особыми способами усредняют метрику (например, micro и macro averaging).\n",
    "\n",
    "На практике всегда полезно визуализировать векторы, которые выдает ваш алгоритм, чтобы понимать, какие он делает ошибки при разных порогах и как метрика реагирует на выдаваемые векторы предсказаний."
   ]
  }
 ],
 "metadata": {
  "kernelspec": {
   "display_name": "Python (myenv)",
   "language": "python",
   "name": "myenv"
  },
  "language_info": {
   "codemirror_mode": {
    "name": "ipython",
    "version": 3
   },
   "file_extension": ".py",
   "mimetype": "text/x-python",
   "name": "python",
   "nbconvert_exporter": "python",
   "pygments_lexer": "ipython3",
   "version": "3.7.3"
  }
 },
 "nbformat": 4,
 "nbformat_minor": 1
}
